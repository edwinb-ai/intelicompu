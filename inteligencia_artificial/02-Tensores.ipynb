{
 "cells": [
  {
   "cell_type": "markdown",
   "metadata": {},
   "source": [
    "# Estructuras básicas en TensorFlow"
   ]
  },
  {
   "cell_type": "code",
   "execution_count": 6,
   "metadata": {},
   "outputs": [],
   "source": [
    "import tensorflow as tf\n",
    "import numpy as np"
   ]
  },
  {
   "cell_type": "markdown",
   "metadata": {},
   "source": [
    "A diferencia de liberías como _numpy_ y _scipy_, _Tensorflow_ no utiliza los arreglos guardados en memoria convencionales, utiliza una estructura semejante a los _apuntadores_ que se manejan de forma muy regular en C/C++, o bien a _generadores_ en Python.\n",
    "\n",
    "La estructura básica es el [tensor](https://www.tensorflow.org/api_docs/python/tf/Tensor#class_tensor), y aunque tiene el mismo nombre que el objeto matemático que generaliza a los vectores y matrices, en este caso es en realidad un arreglo multidimensional que **no** contiene valores como tal, es solamente un **manejador** o **apuntador** al verdadero valor que contiene."
   ]
  },
  {
   "cell_type": "markdown",
   "metadata": {},
   "source": [
    "## Tensores con valores constantes"
   ]
  },
  {
   "cell_type": "code",
   "execution_count": 7,
   "metadata": {},
   "outputs": [
    {
     "name": "stdout",
     "output_type": "stream",
     "text": [
      "Tensor(\"zeros_4:0\", shape=(4, 5, 6), dtype=float32)\n",
      "[[[0. 0. 0. 0. 0. 0.]\n",
      "  [0. 0. 0. 0. 0. 0.]\n",
      "  [0. 0. 0. 0. 0. 0.]\n",
      "  [0. 0. 0. 0. 0. 0.]\n",
      "  [0. 0. 0. 0. 0. 0.]]\n",
      "\n",
      " [[0. 0. 0. 0. 0. 0.]\n",
      "  [0. 0. 0. 0. 0. 0.]\n",
      "  [0. 0. 0. 0. 0. 0.]\n",
      "  [0. 0. 0. 0. 0. 0.]\n",
      "  [0. 0. 0. 0. 0. 0.]]\n",
      "\n",
      " [[0. 0. 0. 0. 0. 0.]\n",
      "  [0. 0. 0. 0. 0. 0.]\n",
      "  [0. 0. 0. 0. 0. 0.]\n",
      "  [0. 0. 0. 0. 0. 0.]\n",
      "  [0. 0. 0. 0. 0. 0.]]\n",
      "\n",
      " [[0. 0. 0. 0. 0. 0.]\n",
      "  [0. 0. 0. 0. 0. 0.]\n",
      "  [0. 0. 0. 0. 0. 0.]\n",
      "  [0. 0. 0. 0. 0. 0.]\n",
      "  [0. 0. 0. 0. 0. 0.]]]\n"
     ]
    }
   ],
   "source": [
    "# Tensor lleno de ceros\n",
    "t_zeros = tf.zeros((4, 5, 6))\n",
    "print(t_zeros) # Se imprime sólo la información del tensor\n",
    "\n",
    "# Arreglo de numpy\n",
    "n_zeros = np.zeros((4, 5, 6))\n",
    "print(n_zeros) # Aquí si se ven los valores como tal"
   ]
  },
  {
   "cell_type": "markdown",
   "metadata": {},
   "source": [
    "Como se puede ver, para el tensor de _Tensorflow_ no se regresan valores como tal sino que se devuelve la información general del objeto. Esto no significa que los valores no estén en memoria o no se hayan computado, simplemente es que _Tensorflow_ maneja esta estructura de forma diferente."
   ]
  },
  {
   "cell_type": "code",
   "execution_count": 8,
   "metadata": {},
   "outputs": [
    {
     "name": "stdout",
     "output_type": "stream",
     "text": [
      "Tensor(\"Const:0\", shape=(5,), dtype=float32)\n"
     ]
    }
   ],
   "source": [
    "# Un tensor constante es inmutable, no se puede modificar\n",
    "t_constante = tf.constant([1.0, 2.0, 3.0, 4.0, 5.0])\n",
    "print(t_constante)"
   ]
  },
  {
   "cell_type": "markdown",
   "metadata": {},
   "source": [
    "En general, _Tensorflow_ tiene la misma interfaz computacional que _numpy_, por lo que las siguientes funciones serán comunes para la persona que conozca _numpy_."
   ]
  },
  {
   "cell_type": "code",
   "execution_count": 10,
   "metadata": {},
   "outputs": [
    {
     "name": "stdout",
     "output_type": "stream",
     "text": [
      "Tensor(\"ones_like:0\", shape=(5,), dtype=float32)\n"
     ]
    }
   ],
   "source": [
    "# Un tensor lleno de uno, de tamaño t_constante (5, unidimensional)\n",
    "t_ones = tf.ones_like(t_constante)\n",
    "print(t_ones)"
   ]
  },
  {
   "cell_type": "code",
   "execution_count": 13,
   "metadata": {},
   "outputs": [
    {
     "name": "stdout",
     "output_type": "stream",
     "text": [
      "Tensor(\"LinSpace_2:0\", shape=(50,), dtype=float32)\n",
      "[0.         0.04081633 0.08163265 0.12244898 0.16326531 0.20408163\n",
      " 0.24489796 0.28571429 0.32653061 0.36734694 0.40816327 0.44897959\n",
      " 0.48979592 0.53061224 0.57142857 0.6122449  0.65306122 0.69387755\n",
      " 0.73469388 0.7755102  0.81632653 0.85714286 0.89795918 0.93877551\n",
      " 0.97959184 1.02040816 1.06122449 1.10204082 1.14285714 1.18367347\n",
      " 1.2244898  1.26530612 1.30612245 1.34693878 1.3877551  1.42857143\n",
      " 1.46938776 1.51020408 1.55102041 1.59183673 1.63265306 1.67346939\n",
      " 1.71428571 1.75510204 1.79591837 1.83673469 1.87755102 1.91836735\n",
      " 1.95918367 2.        ]\n"
     ]
    }
   ],
   "source": [
    "# Un tensor unidimensional, empieza en 0 y termina en 2, espaciado uniformemente\n",
    "# de tal forma que existan 50 elementos dentro del tensor\n",
    "t_lin = tf.linspace(start=0.0, stop=2.0, num=50)\n",
    "print(t_lin)\n",
    "# Por comparación, se tiene el análogo de numpy\n",
    "np_lin = np.linspace(0.0, 2.0)\n",
    "print(np_lin)"
   ]
  },
  {
   "cell_type": "markdown",
   "metadata": {},
   "source": [
    "También se tienen implementados _generadores de números aleatorios._"
   ]
  },
  {
   "cell_type": "code",
   "execution_count": 15,
   "metadata": {},
   "outputs": [
    {
     "name": "stdout",
     "output_type": "stream",
     "text": [
      "Tensor(\"random_uniform_1:0\", shape=(3, 4), dtype=float32)\n"
     ]
    }
   ],
   "source": [
    "# Distribución uniforme, valores aleatorios con la misma probabilidad entre 0 y 1\n",
    "t_rand_unif = tf.random_uniform((3,4), minval=0, maxval=1)\n",
    "print(t_rand_unif)"
   ]
  },
  {
   "cell_type": "code",
   "execution_count": 16,
   "metadata": {},
   "outputs": [
    {
     "name": "stdout",
     "output_type": "stream",
     "text": [
      "Tensor(\"random_normal:0\", shape=(7, 10), dtype=float32)\n"
     ]
    }
   ],
   "source": [
    "# Distribución normal estándar\n",
    "t_normal = tf.random_normal((7, 10), stddev=1.0, mean=0.0)\n",
    "print(t_normal)"
   ]
  },
  {
   "cell_type": "markdown",
   "metadata": {},
   "source": [
    "Por último, si se tienen arreglos de otro tipo o estructuras nativas de Python como las listas, diccionarios y otras cosas, se pueden convertir a tensores de _Tensorflow_ de la siguiente forma."
   ]
  },
  {
   "cell_type": "code",
   "execution_count": 17,
   "metadata": {},
   "outputs": [
    {
     "data": {
      "text/plain": [
       "<tf.Tensor 'Const_1:0' shape=(10, 3) dtype=float64>"
      ]
     },
     "execution_count": 17,
     "metadata": {},
     "output_type": "execute_result"
    }
   ],
   "source": [
    "# Convertir un arreglo de numpy a un tensor\n",
    "tf.convert_to_tensor(np.random.random_sample((10, 3)))"
   ]
  },
  {
   "cell_type": "code",
   "execution_count": 18,
   "metadata": {},
   "outputs": [
    {
     "data": {
      "text/plain": [
       "<tf.Tensor 'Const_2:0' shape=(5,) dtype=float32>"
      ]
     },
     "execution_count": 18,
     "metadata": {},
     "output_type": "execute_result"
    }
   ],
   "source": [
    "# Convertir una lista nativa de Python a tensor\n",
    "tf.convert_to_tensor([0.0, 1.0, 2.0, 3.0, 4.0])"
   ]
  }
 ],
 "metadata": {
  "kernelspec": {
   "display_name": "Python 3",
   "language": "python",
   "name": "python3"
  },
  "language_info": {
   "codemirror_mode": {
    "name": "ipython",
    "version": 3
   },
   "file_extension": ".py",
   "mimetype": "text/x-python",
   "name": "python",
   "nbconvert_exporter": "python",
   "pygments_lexer": "ipython3",
   "version": "3.6.8"
  }
 },
 "nbformat": 4,
 "nbformat_minor": 2
}
