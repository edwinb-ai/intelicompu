{
 "cells": [
  {
   "cell_type": "markdown",
   "metadata": {},
   "source": [
    "# Variables y _placeholders_"
   ]
  },
  {
   "cell_type": "code",
   "execution_count": 2,
   "metadata": {},
   "outputs": [],
   "source": [
    "import tensorflow as tf\n",
    "import numpy as np"
   ]
  },
  {
   "cell_type": "markdown",
   "metadata": {},
   "source": [
    "Las _variables_ y _placeholders_ son los pilares de _Tensorflow_. Sin embargo para entender porqué es esto, uno debe entender un poco más sobre la estructura general de _Tensorflow_ y cómo realiza los cálculos correspondientes."
   ]
  },
  {
   "cell_type": "markdown",
   "metadata": {},
   "source": [
    "## _Dataflow_ programming\n",
    "\n",
    "[_Dataflow programming_](https://en.wikipedia.org/wiki/Dataflow_programming) es una _paradigma_ computacional donde las operaciones, instrucciones y todo lo que sucede en un programa se lleva a cabo en un [grafo dirigido](https://en.wikipedia.org/wiki/Directed_graph).\n",
    "\n",
    "Aquí se presenta un grafo dirigido.\n",
    "\n",
    "![Grafo dirigido básico](https://upload.wikimedia.org/wikipedia/commons/thumb/a/a2/Directed.svg/267px-Directed.svg.png \"Grafo\")"
   ]
  },
  {
   "cell_type": "markdown",
   "metadata": {},
   "source": [
    "_Tensorflow_ funciona de esta forma, utilizando instrucciones y herramientas como _session_, _variables_ y _placeholders_. Como se ha visto anteriormente, ninguna de estas estructuras muestra los datos que tiene pues se encuentra dentro de un grafo. En el momento en que se ejecuta la sesión se da la _instrucción total_ de llevar a cabo **todas** las operaciones del grafo."
   ]
  },
  {
   "cell_type": "markdown",
   "metadata": {},
   "source": [
    "## Ejemplo con _variables_"
   ]
  },
  {
   "cell_type": "code",
   "execution_count": 3,
   "metadata": {},
   "outputs": [],
   "source": [
    "# Crear una variables con ceros, de dimensiones (3,4)\n",
    "my_var = tf.Variable(tf.zeros((3, 4)))\n",
    "# Iniciar una sesión (en realidad se crea un grafo de computación/operacional)\n",
    "session = tf.Session()\n",
    "# Inicializar las variables\n",
    "inits = tf.global_variables_initializer()\n",
    "# Correr todo el grafo\n",
    "session.run(inits)"
   ]
  },
  {
   "cell_type": "markdown",
   "metadata": {},
   "source": [
    "Aunque no se muestra nada, en el fondo se creó un **grafo** dirigido, donde un _nodo_ es la variable, y al inicializar el grafo, todas las operaciones pendientes se llevaron a cabo. A continuación se muestra un ejemplo adicional con _placeholders_ donde se puede visualizar mejor este hecho."
   ]
  },
  {
   "cell_type": "markdown",
   "metadata": {},
   "source": [
    "## Ejemplo con _placeholders_"
   ]
  },
  {
   "cell_type": "code",
   "execution_count": 4,
   "metadata": {},
   "outputs": [
    {
     "name": "stdout",
     "output_type": "stream",
     "text": [
      "[[0.05037086 0.01199036]\n",
      " [0.89214588 0.4766158 ]]\n"
     ]
    }
   ],
   "source": [
    "# Crear valores aleatorios de numpy\n",
    "x_vals = np.random.random_sample((2, 2))\n",
    "print(x_vals)"
   ]
  },
  {
   "cell_type": "code",
   "execution_count": 5,
   "metadata": {},
   "outputs": [
    {
     "data": {
      "text/plain": [
       "array([[0.05037086, 0.01199036],\n",
       "       [0.8921459 , 0.4766158 ]], dtype=float32)"
      ]
     },
     "execution_count": 5,
     "metadata": {},
     "output_type": "execute_result"
    }
   ],
   "source": [
    "# Crear una sesión; un grafo computacional\n",
    "session = tf.Session()\n",
    "# El placeholder no puede tener otra dimensión diferente a (2,2)\n",
    "x = tf.placeholder(tf.float32, shape=(2,2))\n",
    "# identity devuelve un tensor con la misma forma y contenido de la estructura\n",
    "# de datos que se le suministra\n",
    "y = tf.identity(x)\n",
    "# Correr todo el grafo computacional\n",
    "session.run(y, feed_dict={x: x_vals})"
   ]
  },
  {
   "cell_type": "markdown",
   "metadata": {},
   "source": [
    "## Inicialización independiente de variables\n",
    "\n",
    "No siempre se tienen que inicializar las variables de una sola forma, al mismo tiempo, sino que se pueden inicializar una por una según sea conveniente. Se muestra un ejemplo a continuación."
   ]
  },
  {
   "cell_type": "code",
   "execution_count": 10,
   "metadata": {},
   "outputs": [],
   "source": [
    "# Crear la sesión\n",
    "session = tf.Session()\n",
    "# Se tiene una primera variable llena de cero\n",
    "first_var = tf.Variable(tf.zeros((3, 4)))\n",
    "# Y ahora se inicializa\n",
    "session.run(first_var.initializer)\n",
    "# Se tiene una segunda variable llena de uno\n",
    "second_var = tf.Variable(tf.ones_like(first_var))\n",
    "session.run(second_var.initializer)"
   ]
  }
 ],
 "metadata": {
  "kernelspec": {
   "display_name": "Python 3",
   "language": "python",
   "name": "python3"
  },
  "language_info": {
   "codemirror_mode": {
    "name": "ipython",
    "version": 3
   },
   "file_extension": ".py",
   "mimetype": "text/x-python",
   "name": "python",
   "nbconvert_exporter": "python",
   "pygments_lexer": "ipython3",
   "version": "3.6.8"
  }
 },
 "nbformat": 4,
 "nbformat_minor": 2
}
