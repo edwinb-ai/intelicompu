{
 "cells": [
  {
   "cell_type": "markdown",
   "metadata": {
    "lines_to_next_cell": 0,
    "pycharm": {}
   },
   "source": [
    "# Múltiples Capas"
   ]
  },
  {
   "cell_type": "markdown",
   "metadata": {
    "lines_to_next_cell": 0,
    "pycharm": {}
   },
   "source": [
    "## Objetivo\n",
    "El **objetivo** de esta libreta es dar a conocer el esquema básico bajo el cual se pueden manipular diferentes\n",
    "capas en `TensorFlow`. Una vez hecho esto se podrá visualizar todo el _grafo de computación_ mediante\n",
    "`TensorBoard` para analizar con detalle todos los pasos que se siguen al realizar operaciones más complicadas.\n",
    "\n",
    "## Procedimiento\n",
    "El procedimiento a seguir en esta libreta es el siguiente:\n",
    "\n",
    "1. Se crea una imagen de 8 pixeles de forma aleatoria y se le implementa un simple filtro de promedio.\n",
    "En particular este filtro como funciona es que toma un tamaño de la imagen y promedia el número de pixeles\n",
    "que se defina, por lo que resultará en una imagen más pequeña. En este caso será un promedio simple, por lo\n",
    "tanto resultará una imagen de 4 pixeles.\n",
    "\n",
    "2. Después se creará una capa personalizada donde se harán algunas de las operaciones que ya se conocen\n",
    "para demostrar cómo es que `TensorFlow` permite la conexión y comunicación de datos entre capas.\n",
    "\n",
    "3. Por último, se pretende guardar todas estas operaciones tal que posteriormente se puedan visualizar como un grafo\n",
    "de computación utilizando `TensorBoard`."
   ]
  },
  {
   "cell_type": "code",
   "execution_count": 1,
   "metadata": {
    "lines_to_next_cell": 0,
    "pycharm": {
     "is_executing": false
    }
   },
   "outputs": [],
   "source": [
    "import tensorflow as tf\n",
    "import numpy as np\n",
    "import matplotlib.pyplot as plt\n",
    "\n",
    "session = tf.Session()"
   ]
  },
  {
   "cell_type": "markdown",
   "metadata": {
    "lines_to_next_cell": 0,
    "pycharm": {}
   },
   "source": [
    "## Promedio móvil (Filtro espacial)\n",
    "El tipo de _filtro_ que se implementará aquí es una operación conocida coloquialmente como _promedio móvil_, sin embargo su nombre\n",
    "formal es **filtro espacial.** Esto es en general el campo de estudio del _procesamiento digital de imágenes_ y como tal no está\n",
    "dentro del alcance de esta libreta; como referencia se deja el libro de [González & Woods](http://www.imageprocessingplace.com/)\n",
    "que es el estándar para esta área.\n",
    "\n",
    "Básicamente, se tendrá una matriz y se le aplicará el promedio mediante una operación matemática llamada _convolución,_ sin embargo\n",
    "el término correcto es una _correlación_ dado que es un filtro _móvil_ y se define por la siguiente operación:\n",
    "$$ w(x, y) \\star f(x, y) = \\sum_{s=-a}^{a} \\sum_{t=-b}^{b} w(s, t) f(x+s, y+t).$$\n",
    "Por el momento no es necesario darle tanto detalle a esta operación, por lo pronto se utilizará como una caja negra.\n",
    "En particular esta operación está definida en `TensorFlow` como `conv2d` por lo que no hay necesidad de implementarla, de hecho es una\n",
    "operación muy común en el área de imágenes, visión por computadora e inteligencia artificial.\n",
    "\n",
    "## Detalles del ejemplo presentado\n",
    "Para crear la imagen aleatoria y poder realizar la _correlación_ con el filtro entonces se debe crear una imagen con un tamaño muy\n",
    "característico, donde cada elemento de la lista de dimensión corresponde a los siguientes elementos:\n",
    "\n",
    "1. Número de la imagen\n",
    "\n",
    "2. Altura\n",
    "\n",
    "3. Ancho\n",
    "\n",
    "4. Número de canales de color\n",
    "\n",
    "De esta forma se creará una imagen aleatoria con `numpy` y con esta información se trabajará durante toda la libreta."
   ]
  },
  {
   "cell_type": "code",
   "execution_count": 2,
   "metadata": {
    "lines_to_next_cell": 0,
    "pycharm": {
     "is_executing": false
    }
   },
   "outputs": [
    {
     "data": {
      "text/plain": [
       "array([[[[0.15611847],\n",
       "         [0.31895929],\n",
       "         [0.88520538],\n",
       "         [0.544918  ]],\n",
       "\n",
       "        [[0.24391134],\n",
       "         [0.9904592 ],\n",
       "         [0.63431371],\n",
       "         [0.62491614]],\n",
       "\n",
       "        [[0.05575135],\n",
       "         [0.94048611],\n",
       "         [0.61008244],\n",
       "         [0.47641165]],\n",
       "\n",
       "        [[0.03910864],\n",
       "         [0.92118179],\n",
       "         [0.18467528],\n",
       "         [0.39812862]]]])"
      ]
     },
     "execution_count": 2,
     "metadata": {},
     "output_type": "execute_result"
    }
   ],
   "source": [
    "# Definir el tamaño de la imagen como se ha mencionado\n",
    "x_shape = [1, 4, 4, 1]\n",
    "x_val = np.random.uniform(size=x_shape)\n",
    "x_val"
   ]
  },
  {
   "cell_type": "code",
   "execution_count": 3,
   "metadata": {
    "lines_to_next_cell": 0,
    "pycharm": {
     "is_executing": false
    }
   },
   "outputs": [
    {
     "data": {
      "text/plain": [
       "<matplotlib.image.AxesImage at 0x7ff06449f828>"
      ]
     },
     "execution_count": 3,
     "metadata": {},
     "output_type": "execute_result"
    },
    {
     "data": {
      "image/png": "[encoded data removed]",
      "text/plain": [
       "<Figure size 432x288 with 1 Axes>"
      ]
     },
     "metadata": {
      "needs_background": "light"
     },
     "output_type": "display_data"
    }
   ],
   "source": [
    "# Se puede observar la imagen cambiando el tamaño del arreglo\n",
    "plt.imshow(x_val.reshape(4, 4))"
   ]
  },
  {
   "cell_type": "code",
   "execution_count": 4,
   "metadata": {
    "lines_to_next_cell": 0,
    "pycharm": {
     "is_executing": false
    }
   },
   "outputs": [],
   "source": [
    "# Para operar con la imagen, se crea un placeholder de TensorFlow\n",
    "x_data = tf.placeholder(tf.float32, shape=x_shape)"
   ]
  },
  {
   "cell_type": "code",
   "execution_count": 5,
   "metadata": {
    "lines_to_next_cell": 0,
    "pycharm": {
     "is_executing": false
    }
   },
   "outputs": [],
   "source": [
    "# El tamaño del promedio, es 1/4\n",
    "filtro = tf.constant(0.25, shape=[2, 2, 1, 1])\n",
    "# Esta lista es la forma cómo se mueve el filtro\n",
    "strides = [1, 2, 2, 1]\n",
    "# Capa de promedio móvil\n",
    "prom_movil = tf.nn.conv2d(x_data, filtro, strides, padding='SAME', \n",
    "name='Promedio_Movil')"
   ]
  },
  {
   "cell_type": "markdown",
   "metadata": {
    "lines_to_next_cell": 0,
    "pycharm": {}
   },
   "source": [
    "## Sobre la _convolución_ en `TensorFlow`\n",
    "La [convolución en TensorFlow](https://www.tensorflow.org/versions/r1.9/api_guides/python/nn#Convolution) tiene una forma de\n",
    "implementación diferente y única que se debe leer la documentación con cuidado. Aquí se mencionan algunos detalles importantes:\n",
    "\n",
    "1. El _filtro_ aplicado debe de tener el mismo tamaño que los datos de la imagen.\n",
    "\n",
    "2. Los _strides_ son la forma cómo se mueve el filtro. Según la [documentación](https://www.tensorflow.org/versions/r1.9/api_docs/python/tf/nn/conv2d?hl=en#args)\n",
    "se tiene que corresponde a los mismos valores que los datos originales, es decir a la lista que se tiene en la celda anterior donde se describen por primera\n",
    "vez estos datos.\n",
    "\n",
    "3. La opción de `padding` es un término del área de _procesamiento digital de imágenes_ lo cual es algo análogo a un _margen_ en imágenes\n",
    "y esto se hace para no perder información en las orillas de la imagen. En particular, `SAME` viene descrito con mucho más detalle en la\n",
    "[documentación](https://www.tensorflow.org/versions/r1.9/api_guides/python/nn#Notes_on_SAME_Convolution_Padding)."
   ]
  },
  {
   "cell_type": "code",
   "execution_count": 6,
   "metadata": {
    "lines_to_next_cell": 0,
    "pycharm": {
     "is_executing": false
    }
   },
   "outputs": [
    {
     "data": {
      "text/plain": [
       "array([[[[0.42736205],\n",
       "         [0.6723383 ]],\n",
       "\n",
       "        [[0.48913196],\n",
       "         [0.41732448]]]], dtype=float32)"
      ]
     },
     "execution_count": 6,
     "metadata": {},
     "output_type": "execute_result"
    }
   ],
   "source": [
    "# Producir la imagen filtrada y mostrar los datos\n",
    "img_prom = session.run(prom_movil, feed_dict={x_data: x_val})\n",
    "img_prom"
   ]
  },
  {
   "cell_type": "code",
   "execution_count": 7,
   "metadata": {
    "lines_to_next_cell": 0,
    "pycharm": {
     "is_executing": false
    }
   },
   "outputs": [
    {
     "data": {
      "text/plain": [
       "<matplotlib.image.AxesImage at 0x7ff0643d97f0>"
      ]
     },
     "execution_count": 7,
     "metadata": {},
     "output_type": "execute_result"
    },
    {
     "data": {
      "image/png": "[encoded data removed]",
      "text/plain": [
       "<Figure size 432x288 with 1 Axes>"
      ]
     },
     "metadata": {
      "needs_background": "light"
     },
     "output_type": "display_data"
    }
   ],
   "source": [
    "# Mostrar ahora la imagen encontrada que corresponde a estos datos\n",
    "plt.imshow(img_prom.reshape(2, 2))"
   ]
  },
  {
   "cell_type": "markdown",
   "metadata": {
    "lines_to_next_cell": 0,
    "pycharm": {}
   },
   "source": [
    "Esta siguiente parte consta de crear una capa personalizada con operaciones diversas, es importante\n",
    "notar que en realidad no significa nada como tal, no tiene un fundamento matemático o riguroso, la idea es simplemente\n",
    "ilustrar lo que se puede llevar a cabo cuando se tienen múltiples capas.\n",
    "\n",
    "En particular, lo que se pretende ahora es tomar la matriz resultado de las operaciones anteriores y realizar las\n",
    "siguientes operaciones matemáticas:\n",
    "\n",
    "\\begin{equation}\n",
    "\\vec{b} = \\mathbf{A} \\cdot \\vec{x} + \\vec{b}, \\text{y después aplicar la función sigmoide} \\\\\n",
    "\\vec{c} = \\frac{1}{1 + e^{-\\vec{b}}} .\n",
    "\\end{equation}\n",
    "\n",
    "Con esto se tienen dos capas de cómputo donde el resultado de una capa tiene que ser la entrada de la otra capa, por lo\n",
    "que en `TensorFlow` deben de existir algunos ajustes a los datos originales de la imagen."
   ]
  },
  {
   "cell_type": "code",
   "execution_count": 8,
   "metadata": {
    "lines_to_next_cell": 0,
    "pycharm": {
     "is_executing": false
    }
   },
   "outputs": [],
   "source": [
    "def capa_personalizada(input_matrix):\n",
    "    # Reducir dimensiones redundantes en los datos\n",
    "    input_matrix_squeezed = tf.squeeze(input_matrix)\n",
    "    # Crear una \"matriz\" dummy, los valores son inventados\n",
    "    a_mat = tf.constant([[1.0, 2.0], [3.0, 4.0]])\n",
    "    # Así como los valores de b\n",
    "    b = tf.constant(1.0, shape = [2, 2])\n",
    "    # Realizar la multiplicación de arreglos\n",
    "    temp1 = tf.matmul(a_mat, input_matrix_squeezed)\n",
    "    # Y sumar el vector adicional\n",
    "    temp2 = tf.add(temp1, b)\n",
    "    \n",
    "    # Regresar el resultado aplicando la función sigmoide\n",
    "    return tf.sigmoid(temp2)"
   ]
  },
  {
   "cell_type": "code",
   "execution_count": 9,
   "metadata": {
    "lines_to_next_cell": 0,
    "pycharm": {
     "is_executing": false
    }
   },
   "outputs": [],
   "source": [
    "# Se tiene que realizar una entrada en el grafo basándose en la función\n",
    "# personalizada que se acaba de crear\n",
    "with tf.name_scope('Custom_Layer') as scope:\n",
    "    customlayer1 = capa_personalizada(prom_movil)"
   ]
  },
  {
   "cell_type": "code",
   "execution_count": 10,
   "metadata": {
    "lines_to_next_cell": 0,
    "pycharm": {
     "is_executing": false
    }
   },
   "outputs": [],
   "source": [
    "# Estas linea permite guardar los resultados de todo el grafo computacional\n",
    "writer = tf.summary.FileWriter(\"multiples-capas\", session.graph)\n",
    "# Asignar el valor resultante\n",
    "img_sigm = session.run(customlayer1, feed_dict={x_data: x_val})\n",
    "# Terminar de escribir y cerrar archivos\n",
    "writer.close()"
   ]
  },
  {
   "cell_type": "markdown",
   "metadata": {
    "pycharm": {
     "metadata": false,
     "name": "#%% md\n"
    }
   },
   "source": [
    "Esta última celda permite guardar los datos obtenidos del grafo en un directorio, con nombre `multiples-capas` que después\n",
    "podrá ser visualizado con `TensorBoard`.\n",
    "\n",
    "`TensorBoard` ya viene instalado por default cuando se install `TensorFlow` por lo que no debe haber problemas de\n",
    "compatibilidad en esta parte. Para poder visualizar la parte del grafo sólo basta ejecutar el siguiente comando en la\n",
    "terminal:\n",
    "```bash\n",
    "tensorboard --logdir=\"multiples-capas\"\n",
    "```\n",
    "y para que funcione se debe estar posicionado en el directorio que contenga a `multiples-capas`."
   ]
  },
  {
   "cell_type": "code",
   "execution_count": 11,
   "metadata": {
    "lines_to_next_cell": 0,
    "pycharm": {
     "is_executing": false
    }
   },
   "outputs": [
    {
     "data": {
      "text/plain": [
       "array([[0.9172553, 0.9246302],\n",
       "       [0.9857777, 0.9908636]], dtype=float32)"
      ]
     },
     "execution_count": 11,
     "metadata": {},
     "output_type": "execute_result"
    }
   ],
   "source": [
    "# Mostrar los resultados obtenidos como números\n",
    "img_sigm"
   ]
  },
  {
   "cell_type": "code",
   "execution_count": 12,
   "metadata": {
    "pycharm": {
     "is_executing": false
    }
   },
   "outputs": [
    {
     "data": {
      "text/plain": [
       "<matplotlib.image.AxesImage at 0x7ff064359240>"
      ]
     },
     "execution_count": 12,
     "metadata": {},
     "output_type": "execute_result"
    },
    {
     "data": {
      "image/png": "[encoded data removed]",
      "text/plain": [
       "<Figure size 432x288 with 1 Axes>"
      ]
     },
     "metadata": {
      "needs_background": "light"
     },
     "output_type": "display_data"
    }
   ],
   "source": [
    "# Y mostrar los mismos resultados como imagen\n",
    "plt.imshow(img_sigm.reshape(2, 2))"
   ]
  }
 ],
 "metadata": {
  "jupytext": {
   "cell_metadata_filter": "-all",
   "main_language": "python",
   "notebook_metadata_filter": "-all"
  },
  "kernelspec": {
   "display_name": "Python 3",
   "language": "python",
   "name": "python3"
  },
  "language_info": {
   "codemirror_mode": {
    "name": "ipython",
    "version": 3
   },
   "file_extension": ".py",
   "mimetype": "text/x-python",
   "name": "python",
   "nbconvert_exporter": "python",
   "pygments_lexer": "ipython3",
   "version": "3.7.3"
  }
 },
 "nbformat": 4,
 "nbformat_minor": 2
}
