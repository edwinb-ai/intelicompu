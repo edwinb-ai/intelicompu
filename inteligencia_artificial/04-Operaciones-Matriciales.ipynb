{
 "cells": [
  {
   "cell_type": "markdown",
   "metadata": {},
   "source": [
    "# Operaciones _matriciales_ en TensorFlow"
   ]
  },
  {
   "cell_type": "code",
   "execution_count": 1,
   "metadata": {},
   "outputs": [],
   "source": [
    "import tensorflow as tf\n",
    "import numpy as np\n",
    "# Crear un grafo computacional para esta sesión\n",
    "session = tf.Session()"
   ]
  },
  {
   "cell_type": "markdown",
   "metadata": {},
   "source": [
    "## Creación de matrices"
   ]
  },
  {
   "cell_type": "code",
   "execution_count": 2,
   "metadata": {},
   "outputs": [
    {
     "data": {
      "text/plain": [
       "array([[1., 0., 0., 0.],\n",
       "       [0., 1., 0., 0.],\n",
       "       [0., 0., 1., 0.],\n",
       "       [0., 0., 0., 1.]], dtype=float32)"
      ]
     },
     "execution_count": 2,
     "metadata": {},
     "output_type": "execute_result"
    }
   ],
   "source": [
    "# Matriz identidad, una de las tantas formas de realizarlo\n",
    "identity = tf.diag(tf.ones(4))\n",
    "session.run(identity)"
   ]
  },
  {
   "cell_type": "code",
   "execution_count": 3,
   "metadata": {},
   "outputs": [
    {
     "name": "stdout",
     "output_type": "stream",
     "text": [
      "[[ 0.99238974  0.32170877  1.5484488   0.84649956]\n",
      " [ 1.1694679   0.20511162  1.0814606   1.8884525 ]\n",
      " [-0.01525155  1.8661995  -1.5225859   0.5401231 ]]\n"
     ]
    }
   ],
   "source": [
    "# Una matriz llena de valores aleatorios\n",
    "A = tf.truncated_normal((3, 4))\n",
    "print(session.run(A))"
   ]
  },
  {
   "cell_type": "code",
   "execution_count": 4,
   "metadata": {},
   "outputs": [
    {
     "name": "stdout",
     "output_type": "stream",
     "text": [
      "[[1988. 1988. 1988. 1988.]\n",
      " [1988. 1988. 1988. 1988.]\n",
      " [1988. 1988. 1988. 1988.]]\n"
     ]
    }
   ],
   "source": [
    "# Matriz llena de un solo valor\n",
    "B = tf.fill((3, 4), 1988.)\n",
    "print(session.run(B))"
   ]
  },
  {
   "cell_type": "code",
   "execution_count": 5,
   "metadata": {},
   "outputs": [
    {
     "name": "stdout",
     "output_type": "stream",
     "text": [
      "[[0.4796245  0.75492287 0.0679332 ]\n",
      " [0.7886263  0.93251014 0.8967694 ]\n",
      " [0.5253099  0.09135985 0.7080579 ]\n",
      " [0.36443138 0.5203539  0.9372779 ]]\n"
     ]
    }
   ],
   "source": [
    "# Matrices más grandes, más valores aleatorios\n",
    "C = tf.random_uniform((4, 3))\n",
    "print(session.run(C))"
   ]
  },
  {
   "cell_type": "code",
   "execution_count": 6,
   "metadata": {},
   "outputs": [
    {
     "name": "stdout",
     "output_type": "stream",
     "text": [
      "[[1. 2. 3.]\n",
      " [4. 5. 6.]\n",
      " [7. 8. 9.]]\n"
     ]
    }
   ],
   "source": [
    "# También se puede hacer lo mismo con otras estructuras de datos, por ejemplo numpy\n",
    "data = np.array([[1.,2.,3.],[4.,5.,6.],[7.,8.,9.]])\n",
    "D = tf.convert_to_tensor(data)\n",
    "print(session.run(D))"
   ]
  },
  {
   "cell_type": "markdown",
   "metadata": {},
   "source": [
    "## Operaciones básicas con matrices"
   ]
  },
  {
   "cell_type": "code",
   "execution_count": 7,
   "metadata": {},
   "outputs": [
    {
     "name": "stdout",
     "output_type": "stream",
     "text": [
      "[[1987.8171 1989.7739 1989.033  1987.5425]\n",
      " [1987.1799 1987.7605 1987.8306 1989.6538]\n",
      " [1987.7167 1987.754  1987.7773 1988.2693]]\n",
      "[[0. 0. 0. 0.]\n",
      " [0. 0. 0. 0.]\n",
      " [0. 0. 0. 0.]]\n"
     ]
    }
   ],
   "source": [
    "# Suma/resta de matrices\n",
    "print(session.run(A + B))\n",
    "print(session.run(B - B))"
   ]
  },
  {
   "cell_type": "code",
   "execution_count": 8,
   "metadata": {},
   "outputs": [
    {
     "name": "stdout",
     "output_type": "stream",
     "text": [
      "[[-0.23332632  0.01048076  0.21853335]\n",
      " [-1.3401314  -0.74868375 -1.6353986 ]\n",
      " [-2.8964427  -3.0990481  -1.9950173 ]]\n"
     ]
    }
   ],
   "source": [
    "# Multiplicación\n",
    "print(session.run(tf.matmul(A, C)))"
   ]
  },
  {
   "cell_type": "markdown",
   "metadata": {},
   "source": [
    "## Operaciones convencionales del álgebra lineal"
   ]
  },
  {
   "cell_type": "code",
   "execution_count": 9,
   "metadata": {},
   "outputs": [
    {
     "name": "stdout",
     "output_type": "stream",
     "text": [
      "[[1. 4. 7.]\n",
      " [2. 5. 8.]\n",
      " [3. 6. 9.]]\n"
     ]
    }
   ],
   "source": [
    "# Transpuesta de una matriz\n",
    "print(session.run(tf.transpose(D)))"
   ]
  },
  {
   "cell_type": "code",
   "execution_count": 10,
   "metadata": {},
   "outputs": [
    {
     "name": "stdout",
     "output_type": "stream",
     "text": [
      "6.66133814775094e-16\n"
     ]
    }
   ],
   "source": [
    "# Determinante de una matriz\n",
    "print(session.run(tf.matrix_determinant(D)))"
   ]
  },
  {
   "cell_type": "markdown",
   "metadata": {},
   "source": [
    "### NOTA\n",
    "Esta _nota_ es más bien matemática: con la operación anterior se puede dar cuenta fácilmente que el determinante de la matriz D es cero, por lo tanto su inversa no debe existir."
   ]
  },
  {
   "cell_type": "code",
   "execution_count": 11,
   "metadata": {},
   "outputs": [
    {
     "name": "stdout",
     "output_type": "stream",
     "text": [
      "[[-4.50359963e+15  9.00719925e+15 -4.50359963e+15]\n",
      " [ 9.00719925e+15 -1.80143985e+16  9.00719925e+15]\n",
      " [-4.50359963e+15  9.00719925e+15 -4.50359963e+15]]\n"
     ]
    }
   ],
   "source": [
    "# Comprobar que la inversa de D no existe, debe mostrar algún error\n",
    "print(session.run(tf.matrix_inverse(D)))"
   ]
  },
  {
   "cell_type": "markdown",
   "metadata": {},
   "source": [
    "Los valores son valores muy grandes, no tienen sentido; no se mostró un error pero los valores obtenidos no sirven de mucho. Sin embargo, existe la [pseudoinversión](https://en.wikipedia.org/wiki/Moore%E2%80%93Penrose_inverse) que es la inversa de una matriz para matrices con determinante igual a cero."
   ]
  },
  {
   "cell_type": "code",
   "execution_count": 12,
   "metadata": {},
   "outputs": [
    {
     "name": "stdout",
     "output_type": "stream",
     "text": [
      "\n",
      "WARNING: The TensorFlow contrib module will not be included in TensorFlow 2.0.\n",
      "For more information, please see:\n",
      "  * https://github.com/tensorflow/community/blob/master/rfcs/20180907-contrib-sunset.md\n",
      "  * https://github.com/tensorflow/addons\n",
      "If you depend on functionality not listed there, please file an issue.\n",
      "\n",
      "[[-6.38888889e-01 -1.66666667e-01  3.05555556e-01]\n",
      " [-5.55555556e-02 -3.12250226e-17  5.55555556e-02]\n",
      " [ 5.27777778e-01  1.66666667e-01 -1.94444444e-01]]\n"
     ]
    }
   ],
   "source": [
    "# Para que esto funcione se debe tener instalado tensorflow_probability\n",
    "# Si no se tiene, la siguiente linea de numpy se debe activar\n",
    "# from numpy.linalg import pinv\n",
    "import tensorflow_probability as tfp\n",
    "# Calcular la pseudoinversa de D\n",
    "print(session.run(tfp.math.pinv(D)))\n",
    "# Para cuando no se tiene tensorflow_probability, se emplea la implementación de numpy\n",
    "# print(pinv(D))"
   ]
  },
  {
   "cell_type": "markdown",
   "metadata": {},
   "source": [
    "Se encuentra ahora que la matriz existe y tiene valores útiles. Esta operación matricial, muy desconocida, tiene aplicaciones cuando se diseñan algoritmos de regresión mediante mínimos cuadrados. También en clasificación al aplicar un método de _Gaussian Naive Bayes_, entre muchas otras aplicaciones muy importantes."
   ]
  },
  {
   "cell_type": "code",
   "execution_count": 13,
   "metadata": {},
   "outputs": [
    {
     "name": "stdout",
     "output_type": "stream",
     "text": [
      "50.000004\n",
      "Inversión convencional, por descomposición de Cholesky\n",
      "[[-0.26000002  0.42000002 -0.40000004]\n",
      " [ 0.18       -0.06        0.2       ]\n",
      " [ 0.3        -0.10000001  0.        ]]\n",
      "Inversión de Moore-Penrose\n",
      "[[-2.60000020e-01  4.20000017e-01 -4.00000036e-01]\n",
      " [ 1.80000007e-01 -5.99999949e-02  2.00000003e-01]\n",
      " [ 2.99999982e-01 -1.00000024e-01 -8.94069672e-08]]\n"
     ]
    }
   ],
   "source": [
    "# Matriz que tiene determinante diferente de cero\n",
    "E = tf.convert_to_tensor(np.array([[1.,2.,3.], [3., 6., -1.], [0., 5., -3.]], dtype=np.float32))\n",
    "print(session.run(tf.matrix_determinant(E)))\n",
    "\n",
    "# Por lo tanto la matriz debe tener inversa, y su pseudoinversa debe ser casi igual dentro de un margen de error numérico\n",
    "print('Inversión convencional, por descomposición de Cholesky')\n",
    "print(session.run(tf.matrix_inverse(E)))\n",
    "print('Inversión de Moore-Penrose')\n",
    "print(session.run(tfp.math.pinv(E)))"
   ]
  },
  {
   "cell_type": "markdown",
   "metadata": {},
   "source": [
    "## Descomposición de matrices\n",
    "\n",
    "Manejar las matrices como son no siempre es conveniente, y por lo tanto se crearon las descomposiciones matriciales como LU, QR o Cholesky. A continuación se estudia un ejemplo muy sencillo con la descomposición de Cholesky.\n",
    "\n",
    "Para encontrar la inversa se debe resolver el sistema de ecuaciones $\\mathbf{A} \\mathbf{x} = \\mathbf{b}$ donde $\\mathbf{b}$ es un vector unitario de la matriz identidad."
   ]
  },
  {
   "cell_type": "code",
   "execution_count": 17,
   "metadata": {},
   "outputs": [
    {
     "name": "stdout",
     "output_type": "stream",
     "text": [
      "Qr(q=array([[-0.3162278 ,  0.        ,  0.9486833 ],\n",
      "       [-0.9486833 ,  0.        , -0.31622773],\n",
      "       [ 0.        , -1.        ,  0.        ]], dtype=float32), r=array([[-3.1622777e+00, -6.3245554e+00, -2.3841858e-07],\n",
      "       [ 0.0000000e+00, -5.0000000e+00,  3.0000000e+00],\n",
      "       [ 0.0000000e+00,  0.0000000e+00,  3.1622777e+00]], dtype=float32))\n",
      "[[-0.26000002]\n",
      " [ 0.18      ]\n",
      " [ 0.3       ]]\n",
      "[[-0.26000002  0.42       -0.4       ]\n",
      " [ 0.18       -0.05999999  0.2       ]\n",
      " [ 0.3        -0.09999999  0.        ]]\n"
     ]
    }
   ],
   "source": [
    "# Se pretende encontrar la inversa de E, dado que se conoce del paso anterior\n",
    "# Primero, descomponer la matriz\n",
    "print(session.run(tf.linalg.qr(E)))\n",
    "q, r = tf.linalg.qr(E)\n",
    "# Se calcula y\n",
    "y_1 = tf.linalg.matvec(tf.transpose(q), [1.0, 0.0, 0.0])\n",
    "# Reacomodar el tensor\n",
    "y_1 = tf.reshape(y_1, [3, 1])\n",
    "# Resolver el sistema de ecuaciones\n",
    "x_1 = tf.linalg.solve(r, y_1)\n",
    "# Esta es la primera columna de la matriz E, ver arriba\n",
    "print(session.run(x_1))\n",
    "\n",
    "# Aplicar lo mismo para los demás vectores\n",
    "y_2 = tf.linalg.matvec(tf.transpose(q), [0.0, 1.0, 0.0])\n",
    "y_2 = tf.reshape(y_2, [3, 1])\n",
    "x_2 = tf.linalg.solve(r, y_2)\n",
    "y_3 = tf.linalg.matvec(tf.transpose(q), [0.0, 0.0, 1.0])\n",
    "y_3 = tf.reshape(y_3, [3, 1])\n",
    "x_3 = tf.linalg.solve(r, y_3)\n",
    "\n",
    "# Juntar los resultados en una matriz, reajustando los tamaños de los tensores\n",
    "x_res = tf.stack([tf.reshape(x_1, [-1]), tf.reshape(x_2,[-1]), tf.reshape(x_3, [-1])], axis=1)\n",
    "# Mostrar el resultado final como una matriz\n",
    "# Este es el mismo resultado que antes\n",
    "print(session.run(x_res))"
   ]
  },
  {
   "cell_type": "markdown",
   "metadata": {},
   "source": [
    "## Vectores y valores propios"
   ]
  },
  {
   "cell_type": "code",
   "execution_count": 19,
   "metadata": {},
   "outputs": [
    {
     "name": "stdout",
     "output_type": "stream",
     "text": [
      "[-5.4780183   0.31889167  9.159128  ]\n"
     ]
    }
   ],
   "source": [
    "# Valores propios\n",
    "print(session.run(tf.linalg.eigvalsh(E)))"
   ]
  },
  {
   "cell_type": "code",
   "execution_count": 20,
   "metadata": {},
   "outputs": [
    {
     "name": "stdout",
     "output_type": "stream",
     "text": [
      "(array([-5.4780183 ,  0.31889167,  9.159128  ], dtype=float32), array([[ 0.20143086, -0.9250799 ,  0.3219515 ],\n",
      "       [-0.4349576 ,  0.21002677,  0.8756144 ],\n",
      "       [ 0.8776317 ,  0.31641096,  0.36006463]], dtype=float32))\n"
     ]
    }
   ],
   "source": [
    "# Vectores propios\n",
    "print(session.run(tf.linalg.eigh(E)))"
   ]
  }
 ],
 "metadata": {
  "kernelspec": {
   "display_name": "Python 3",
   "language": "python",
   "name": "python3"
  },
  "language_info": {
   "codemirror_mode": {
    "name": "ipython",
    "version": 3
   },
   "file_extension": ".py",
   "mimetype": "text/x-python",
   "name": "python",
   "nbconvert_exporter": "python",
   "pygments_lexer": "ipython3",
   "version": "3.7.2"
  }
 },
 "nbformat": 4,
 "nbformat_minor": 2
}
