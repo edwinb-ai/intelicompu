{
 "cells": [
  {
   "cell_type": "markdown",
   "metadata": {},
   "source": [
    "# Introducción a la Inteligencia Computacional con TensorFlow"
   ]
  },
  {
   "cell_type": "markdown",
   "metadata": {},
   "source": [
    "## 1. Introducción"
   ]
  },
  {
   "cell_type": "markdown",
   "metadata": {},
   "source": [
    "[TensorFlow](https://www.tensorflow.org/) es una librería numérica libre y gratis para aplicaciones de _Machine Learning_, _Deep Learning_ e _Inteligencia Computacional._\n",
    "\n",
    "Creada por Google en el año 2015, se ha convertido en una de las herramientas más utilizadas en el ámbito industrial y de producción para crear modelos inteligentes.\n",
    "Está escrita en C++ y CUDA C, pero _envuelta_ en Python para su manejo más fácil y rápido.\n",
    "\n",
    "Al avanzar el curso se verá la utilidad y diferencia de TensorFlow con otros paquetes como [scikit-learn](https://scikit-learn.org/stable/index.html), que también es una librería para inteligencia computacional escrita mayoritariamente en Python.\n",
    "Sin embargo, un adelanto a la estructura de TensorFlow es que está diseñada bajo uno de los conceptos matemáticos más poderosos: el [grafo.](https://en.wikipedia.org/wiki/Graph_(discrete_mathematics))"
   ]
  },
  {
   "cell_type": "markdown",
   "metadata": {},
   "source": [
    "## 2. Estructura _básica_ de un modelo aplicado de inteligencia computacional"
   ]
  },
  {
   "cell_type": "markdown",
   "metadata": {},
   "source": [
    "Se puede _generalizar_ un modelo de inteligencia computacional de la siguiente forma:\n",
    "\n",
    "1. Generar o importar datos para analizar.\n",
    "2. Procesamiento de los datos.\n",
    "3. _Hyper-tuning_, u optimización de hiperparámetros.\n",
    "4. Definir el modelo y realizar pruebas de validación con datos de entrenamiento.\n",
    "5. Aplicar el modelo a datos desconocidos y tener resultados."
   ]
  },
  {
   "cell_type": "markdown",
   "metadata": {},
   "source": [
    "### 2.1 Datos\n",
    "\n",
    "Los _datos_ son la parte  fundamental del proceso de inteligencia computacional. Son los datos lo que pueden generar la necesidad de crear modelos inteligentes, o bien tener modelos y aplicarlos a datos ya existentes. Sea como sea, tener datos es el punto clave y para esto se tienen muchas fuentes útiles como [Kaggle](https://www.kaggle.com/datasets), [OpenML](https://www.openml.org/), las bases de datos _clásicas_ entre muchos otros."
   ]
  },
  {
   "cell_type": "markdown",
   "metadata": {},
   "source": [
    "### 2.2 Procesamiento de Datos\n",
    "\n",
    "Procesar datos es una parte importante y fundamental del proceso de la inteligencia computacional. No todos los algoritmos son iguales, pueden recibir los datos de diferentes formas, en distintos tamaños o con otras escalas.\n",
    "\n",
    "Un claro ejemplo de esto es cuando se quiere realizar **reconocimiento de patrones** en _imágenes_. Por la naturaleza de las imágenes se tendrían que guardar en arreglos multidimensionales, pero no todos los algoritmos pueden trabajar de esta forma.\n",
    "\n",
    "En esta parte existen métodos muy potentes para reducción, normalización, ajuste y limpieza de datos que TensorFlow puede hacer con facilidad."
   ]
  },
  {
   "cell_type": "markdown",
   "metadata": {},
   "source": [
    "### 2.3 _Hyper-tuning_\n",
    "\n",
    "Muchos modelos de inteligencia computacional cuentan con valores o _paráemetros_ únicos para ese modelo, pero estos parámetros dependen directamente de los datos a analizar. ¿Cómo escoger siempre los indicados?\n",
    "\n",
    "Para responder esta pregunta existe el ajuste de hiperparámetros, que se reduce a lo siguiente: **optimizar** el mejor valor de precisión en el modelo para diveros valores de hiperparámetros.\n",
    "\n",
    "Este es un método iterativo y computacionalmente costoso en diversos casos, pero es un paso _fundamental_ para aplicar un modelo."
   ]
  },
  {
   "cell_type": "markdown",
   "metadata": {},
   "source": [
    "### 2.4 Modelo y validación\n",
    "\n",
    "¿Se pretende predecir un resultado? ¿Se buscar reconocer un patrón? ¿Analizar una secuencia de DNA de una especie y clasificar qué enfermedad tiene? Estas preguntas son las que deciden el _modelo_ a escoger una vez que se tiene definido el problema. Si es clasificación, ¿conviene utilizar [Naive Bayes](https://en.wikipedia.org/wiki/Naive_Bayes_classifier) o [SVM](https://en.wikipedia.org/wiki/Support-vector_machine)?\n",
    "Si es regresión y predicción, ¿[Lasso](https://en.wikipedia.org/wiki/Lasso_(statistics)) o una red neuronal mediante un [MLP (Multilayer Perceptron)](https://en.wikipedia.org/wiki/Multilayer_perceptron)?\n",
    "\n",
    "Una vez que se elige el modelo es momento de validarlo, haciendo predicciones con los mismos y utilizar técnicas como la [validación cruzada](https://en.wikipedia.org/wiki/Cross-validation_(statistics)) entre otras para asegurarse que el model no está sesgado hacia un subconjunto de datos."
   ]
  },
  {
   "cell_type": "markdown",
   "metadata": {},
   "source": [
    "## 2.5 Producción y resultados\n",
    "\n",
    "El modelo está entrenado, validado y listo para aplicarse a los datos reales. Es momento de observar los resultados mediante una [matriz de confusión](https://en.wikipedia.org/wiki/Confusion_matrix), reportes de valores estadísticos, imágenes resultantes y demás herramientas que pertenecen al área de las [visualización de datos.](https://en.wikipedia.org/wiki/Data_visualization)\n",
    "\n",
    "Con esto se ha concluido con el proceso y ahora se cuenta con un modelo inteligente viable, válido y efectivo. "
   ]
  }
 ],
 "metadata": {
  "kernelspec": {
   "display_name": "Python 3",
   "language": "python",
   "name": "python3"
  },
  "language_info": {
   "codemirror_mode": {
    "name": "ipython",
    "version": 3
   },
   "file_extension": ".py",
   "mimetype": "text/x-python",
   "name": "python",
   "nbconvert_exporter": "python",
   "pygments_lexer": "ipython3",
   "version": "3.6.8"
  }
 },
 "nbformat": 4,
 "nbformat_minor": 2
}
