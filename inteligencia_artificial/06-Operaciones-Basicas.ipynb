{
 "cells": [
  {
   "cell_type": "markdown",
   "metadata": {},
   "source": [
    "# Operaciones básicas con el grafo de computación en TensorFlow"
   ]
  },
  {
   "cell_type": "markdown",
   "metadata": {},
   "source": [
    "El paradigma computacional de TensorFlow es el _dataflow paradigm_ como se había mencionado anteriormente en otra libreta. Esto significa que TensorFlow requiere que primero se cree un **grafo** de computación donde _todas_ las operaciones están descritas y detalladas, para que posteriormente se ejecuten en el orden en que se establecieron.\n",
    "\n",
    "Este diseño es más intuituvo al hablar de _capas_ de cálculos y operaciones como se verá posteriormente, además de que permite el parelelizamiento de algoritmos que sean computacionalmente muy intensivos.\n",
    "\n",
    "En esta libreta se explorarán las operaciones básicas al crear un _grafo_ de computación y el cómo se desarrollan, ejecutan, asi como llegar al resultado final."
   ]
  },
  {
   "cell_type": "code",
   "execution_count": 9,
   "metadata": {},
   "outputs": [],
   "source": [
    "# Importar las librerías necesarias\n",
    "import tensorflow as tf\n",
    "import numpy as np\n",
    "\n",
    "# Crear una sesión de TensorFlow (i.e. un grafo de computación)\n",
    "session = tf.Session()"
   ]
  },
  {
   "cell_type": "markdown",
   "metadata": {},
   "source": [
    "## Operaciones simples (1 capa de computación en el grafo)"
   ]
  },
  {
   "cell_type": "markdown",
   "metadata": {},
   "source": [
    "Como primer ejemplo, se pretende hacer un modelo muy _simple_ de una regresión lineal que siga la ecuación $$y = 3x.$$\n",
    "\n",
    "Para lograr este objetivo se creará el tensor de valores de $x$ a partir de arreglos."
   ]
  },
  {
   "cell_type": "code",
   "execution_count": 10,
   "metadata": {},
   "outputs": [],
   "source": [
    "# Crear un arreglo de numpy con los valores\n",
    "x_vals = np.array([2., 4., 6., 8., 10., 12.])"
   ]
  },
  {
   "cell_type": "code",
   "execution_count": 11,
   "metadata": {},
   "outputs": [],
   "source": [
    "# Crear un placeholder de TensorFlow de tipo flotante\n",
    "x_data = tf.placeholder(tf.float32)"
   ]
  },
  {
   "cell_type": "code",
   "execution_count": 12,
   "metadata": {},
   "outputs": [],
   "source": [
    "# Definir la constante del modelo\n",
    "m_const = tf.constant(3.0)"
   ]
  },
  {
   "cell_type": "code",
   "execution_count": 13,
   "metadata": {},
   "outputs": [],
   "source": [
    "# Definir la operación de multiplicación dentro del grafo\n",
    "my_product = tf.multiply(m_const, x_data)"
   ]
  },
  {
   "cell_type": "code",
   "execution_count": 14,
   "metadata": {},
   "outputs": [
    {
     "data": {
      "text/plain": [
       "<tf.Tensor 'Mul_1:0' shape=<unknown> dtype=float32>"
      ]
     },
     "execution_count": 14,
     "metadata": {},
     "output_type": "execute_result"
    }
   ],
   "source": [
    "# Y notar que es un objeto de TensorFlow\n",
    "my_product"
   ]
  },
  {
   "cell_type": "code",
   "execution_count": 15,
   "metadata": {},
   "outputs": [
    {
     "name": "stdout",
     "output_type": "stream",
     "text": [
      "6.0\n",
      "12.0\n",
      "18.0\n",
      "24.0\n",
      "30.0\n",
      "36.0\n"
     ]
    }
   ],
   "source": [
    "# Iterar sobre los valores y ejecutar el grafo de computación para encontrar los valores de y\n",
    "for x_val in x_vals:\n",
    "    # Se debe suministrar los valores en un diccionario de Python para su evaluación\n",
    "    print(session.run(my_product, feed_dict={x_data: x_val}))"
   ]
  },
  {
   "cell_type": "markdown",
   "metadata": {},
   "source": [
    "## Operaciones múltiples (múltiples capas de computación en el grafo)"
   ]
  },
  {
   "cell_type": "markdown",
   "metadata": {},
   "source": [
    "Ahora se realizará un ejemplo donde múltiples operaciones se llevan a cabo en el grafo computacional, en particular se harán un par de multiplicación de arreglo multidimensionales utilizando TensorFlow.\n",
    "\n",
    "Ahora, la operación que se desea realizar es la siguiente:\n",
    "\n",
    "$$ \\left( X \\cdot m_1 \\right) \\cdot m_2 + a_1$$\n",
    "\n",
    "donde $X \\in \\mathbb R_{3\\times4}$, $m_1 \\in \\mathbb R^4$ y $m_2, a_1 \\in \\mathbb R.$"
   ]
  },
  {
   "cell_type": "code",
   "execution_count": 16,
   "metadata": {},
   "outputs": [],
   "source": [
    "# Se crea una nueva sesión de TensorFlow (un nuevo grafo computacional)\n",
    "session = tf.Session()"
   ]
  },
  {
   "cell_type": "code",
   "execution_count": 17,
   "metadata": {},
   "outputs": [
    {
     "data": {
      "text/plain": [
       "array([[ 1.,  3.,  5.,  7.],\n",
       "       [-2.,  0.,  7.,  6.],\n",
       "       [-6., -1.,  0.,  3.]])"
      ]
     },
     "execution_count": 17,
     "metadata": {},
     "output_type": "execute_result"
    }
   ],
   "source": [
    "# Crear un arreglo multidimensional de tamaño (3,4)\n",
    "arreglo_1 = np.array([[1.,3.,5.,7.],\n",
    "                     [-2.,0.,7.,6.],\n",
    "                     [-6.,-1.,0.,3.]])\n",
    "# Ver que el arreglo esté bien inicializado\n",
    "arreglo_1"
   ]
  },
  {
   "cell_type": "code",
   "execution_count": 23,
   "metadata": {},
   "outputs": [
    {
     "data": {
      "text/plain": [
       "array([[[ 1.,  3.,  5.,  7.],\n",
       "        [-2.,  0.,  7.,  6.],\n",
       "        [-6., -1.,  0.,  3.]],\n",
       "\n",
       "       [[ 2.,  4.,  6.,  8.],\n",
       "        [-1.,  1.,  8.,  7.],\n",
       "        [-5.,  0.,  1.,  4.]]])"
      ]
     },
     "execution_count": 23,
     "metadata": {},
     "output_type": "execute_result"
    }
   ],
   "source": [
    "# Se crea un nuevo arreglo multidimensional utilizando el arreglo anterior.\n",
    "x_vals = np.array([arreglo_1, arreglo_1+1])\n",
    "# Y se verifica que esté bien hecho\n",
    "x_vals"
   ]
  },
  {
   "cell_type": "code",
   "execution_count": 20,
   "metadata": {},
   "outputs": [],
   "source": [
    "# Para crear los datos en el grafo, se crea un placeholder\n",
    "x_data = tf.placeholder(tf.float32, shape=(3,4))"
   ]
  },
  {
   "cell_type": "code",
   "execution_count": 21,
   "metadata": {},
   "outputs": [],
   "source": [
    "# Se crean ahora tres constantes diferentes\n",
    "# Primero, un arreglo unidimensional de constantes, tamaño (1,4)\n",
    "m_1 = tf.constant([[1.], [0.], [-2.], [5.]])\n",
    "# Y luego dos constantes por separado\n",
    "# Notar que también son arreglos para mantener consistencia en el grafo de computación\n",
    "m_2 = tf.constant([[7.]])\n",
    "a_1 = tf.constant([[15.]])"
   ]
  },
  {
   "cell_type": "code",
   "execution_count": 27,
   "metadata": {},
   "outputs": [],
   "source": [
    "# Ahora se implementa el modelo propuesto\n",
    "# Primero, la multiplicación del arreglo multidimensional por el unidimensional\n",
    "prod_1 = tf.matmul(x_data, m_1)\n",
    "# Luego se realiza la siguiente multiplicación, del resultado con la constante\n",
    "# Adicionalmente, se puede utilizar la sintáxis especial de multiplicación de arreglos multidimensionales\n",
    "prod_2 = prod_1 @ m_2\n",
    "# Y por último se suma la última constante al resultado anterior\n",
    "add_1 = tf.add(prod_2, a_1)"
   ]
  },
  {
   "cell_type": "code",
   "execution_count": 28,
   "metadata": {},
   "outputs": [
    {
     "name": "stdout",
     "output_type": "stream",
     "text": [
      "[[197.]\n",
      " [113.]\n",
      " [ 78.]]\n",
      "[[225.]\n",
      " [141.]\n",
      " [106.]]\n"
     ]
    }
   ],
   "source": [
    "# Ahora se ejecuta todo el grafo de computación\n",
    "for x_val in x_vals:\n",
    "    print(session.run(add_1, feed_dict={x_data: x_val}))"
   ]
  }
 ],
 "metadata": {
  "kernelspec": {
   "display_name": "Python 3",
   "language": "python",
   "name": "python3"
  },
  "language_info": {
   "codemirror_mode": {
    "name": "ipython",
    "version": 3
   },
   "file_extension": ".py",
   "mimetype": "text/x-python",
   "name": "python",
   "nbconvert_exporter": "python",
   "pygments_lexer": "ipython3",
   "version": "3.7.2"
  }
 },
 "nbformat": 4,
 "nbformat_minor": 2
}
