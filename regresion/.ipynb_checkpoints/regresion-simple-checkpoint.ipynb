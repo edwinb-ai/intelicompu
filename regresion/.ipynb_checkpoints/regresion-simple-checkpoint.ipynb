{
 "cells": [
  {
   "cell_type": "code",
   "execution_count": 1,
   "metadata": {},
   "outputs": [],
   "source": [
    "import os\n",
    "try:\n",
    "\tos.chdir(os.path.join(os.getcwd(), '..'))\n",
    "except:\n",
    "\tpass\n"
   ]
  },
  {
   "cell_type": "markdown",
   "metadata": {},
   "source": [
    " # _Regresión simple_ (con Máquinas de Soporte Vectorial)."
   ]
  },
  {
   "cell_type": "markdown",
   "metadata": {},
   "source": [
    " ## 1. Introducción\n",
    " La _regresión lineal_ es un concepto familiar de la estadística paramétrica donde se aplican muchos de los principios y teoremas\n",
    " fundamentales de esta área. Existen diversos propósitos para realizar una regresión, pero en particular se pueden reducir a dos\n",
    " principales:\n",
    "\n",
    " 1. _Ajustar_ la mejor linea recta a un conjunto de datos, y con esto se cumplen dos subobjetivos:\n",
    "\n",
    " a. Encontrar los _parámetros_ de la mejor linea recta. Estos pueden ser lo que se busca originalmente en algún tipo de experimento diseñado.\n",
    "\n",
    " b. Realizar predicciones en base a los datos y la mejor linea recta. Esta linea recta se puede generalizar y dado un cierto _intervalo de\n",
    " confianza esto puede significar que las predicciones son válidas.\n",
    "\n",
    " 2. Encontrar una _correlación_ entre las variables que se encuentran en el conjunto de datos. En diversos caso de problemas reales sucede\n",
    " que se tienen mediciones y _no_ se conoce cuáles de estos datos tienen una _correlación lineal_ por lo que realizar la regresión puede\n",
    " ayudar a separar estas variables entre sí.\n",
    "\n",
    "\n",
    " ### Modelo matemático\n",
    " Sea $\\mathbf{X} \\in \\mathbb{R}$ el conjunto de datos de la variable _independiente_, y sea $\\mathbf{Y} \\in \\mathbb{R}$ el conjunto de datos de la\n",
    " variable _dependiente_, entonces el _modelo lineal_ que se busca obtener es el siguiente: $$ \\hat{Y} = \\alpha + \\beta X ,$$ donde $\\hat{Y}$ representa\n",
    " el valor de la variable _dependiente_ **obtenida** por el modelo lineal. Nótese que **no** es la misma variable original, pues es posible que _no_\n",
    " sean los mismos valores.\n",
    " Una vez descrito el modelo, quedan por determinar los dos parámetros $\\alpha$ y $\\beta,$ ¿cómo se realiza esto?\n",
    "\n",
    " ### Minimización de la _función de costo_\n",
    " Normalmente se necesitan dos ecuaciones diferentes para dos incógnitas, y esto es lo que se planea realizar. Al menos es una de las formas de realizar\n",
    " esta determinación. Pero este modelo de _regresión lineal ordinaria_ se basa en que los **errores** deben de ser minimizados. ¿Qué tipo de errrores?\n",
    " Es esta pregunta la que introduce la siguiente _función de costo_ que debe de ser minimizada:\n",
    " $$ RSS = \\sum_{i=1}^{N} \\hat{\\varepsilon_i}^2 =  \\sum_{i=1}^{N} \\left(y_i - \\left(\\alpha + \\beta x_i \\right)\\right)^2 ,$$\n",
    " donde $N$ es el número total de valores tanto en $\\mathbf{X}$ como en $\\mathbf{Y}$ y $\\hat{\\varepsilon_i}$ son los errores de _predicción_ respecto a los\n",
    " _reales_, esto es, entre $\\mathbf{Y}$ y $\\mathbf{\\hat{Y}}$.\n",
    " Existe una forma cerrada (expresiones analíticas que se obtienen a partir\n",
    " de teoremas del cálculo diferencial), sin embargo esto puede ser minimizado también mediante métodos numéricos (como [descenso de gradiente](https://en.wikipedia.org/wiki/Gradient_descent)\n",
    " o el [método de Newton](https://en.wikipedia.org/wiki/Newton%27s_method_in_optimization), entre muchos otros). En particular, esta libreta _no_ tiene como\n",
    " objetivo realizar y demostrar este tipo de análisis. Para mayor información, visitar las referencias 1 y 2.\n",
    "\n",
    " ### Las diferentes hipótesis de la regresión lineal ordinaria\n",
    " Para que este modelo sea viable, confiable y aplicable, se deben cumplir varias hipótesis las cuales son difíciles de satisfacer en situaciones de datos reales\n",
    " pero que es común encontrar que se satisfacen en experimentos diseñados y/o controlados. Las hipótesis son:\n",
    "\n",
    " 1. El **valor esperado** de los errores $\\varepsilon$ debe cumplir que $E\\left(\\varepsilon \\vert x\\right) = 0.$\n",
    " 2. La **varianza** de los errores debe de ser _finita_, _constante_ y _conocida_ tal que cumpla $V\\left(\\varepsilon \\vert x\\right) = \\sigma^2 < \\infty.$\n",
    " 3. **No** existe una _correlación_ entre los errores tal que $Cov\\left(\\varepsilon_i \\vert \\varepsilon_j\\right) = 0.$\n",
    "\n",
    "\n",
    " Lo más _común_ es asumir que los _errores_ siguen una distribución _normal_ tal que $\\varepsilon \\vert x \\sim \\mathcal{N}\\left(0, \\sigma^2\\right)$\n",
    " y esta es la hipótesis más _fuerte_ y _restrictiva_ para este modelo; cuando esto no sucede se deben emplear métodos _no paramétricos_ que puedan resolver\n",
    " esta limitante, o bien, acudir a métodos más robustos que pertenecen a la rama de la inteligencia computacional como se verá posteriormente en esta libreta."
   ]
  },
  {
   "cell_type": "markdown",
   "metadata": {},
   "source": [
    " ## 2. _Support Vector Regression_\n",
    " NOTA: **NO** se cubrirá toda la teoría de las máquinas de soporte vectorial (SVM); para más información, revisar la referencia 3.\n",
    "\n",
    " ### Motivación\n",
    " Las SVM han probado ser un algoritmo robusto, fantástico y muy adecuado para problemas de _clasificación_. Sin embargo, V. Vapnik creó un algoritmo adicional\n",
    " donde atacaba directamente el problema de la _regresión_ mediante un problema de _clasificación_, efectivamente aplicando las SVM a este problema y creando\n",
    " un algoritmo extremadamente robusto para crear regresiones lineales y no lineales sin las restricciones que contiene el modelo de regresión lineal ordinario.\n",
    "\n",
    " ### Modelo matemático\n",
    " NOTA: **No** se llevarán a cabo las demostraciones en esta libreta, y la presentación de las ecuaciones será meramente ilustrativa.\n",
    " Para aquella persona que desee conocer más al respecto, leer con detalle las referencias 4 y 5.\n",
    "\n",
    " La formulación estándar de las SVM para regresión se conoce como $\\varepsilon-SVR$ (epsilon support vector regression, en inglés). Para realizar la formulación\n",
    " se debe tener un conjunto de datos ${(x_1, y_1),\\cdots,(x_n,y_n)} \\subset \\mathbb{H}\\times\\mathbb{R}$, donde los valores $x_1 \\cdots x_n$ son elementos\n",
    " de un espacio general $\\mathbb{H}$ dado que en el caso más general pueden contener cualquier número de _características_, y no están restringidas\n",
    " a pertenecer el conjunto $\\mathbb{R}$.\n",
    " Es muy importante notar que a diferencia del caso de clasificación, aquí las _clases_ (los valores $y$) son todos los números reales.\n",
    " Ahora bien, igual que en el caso de la regresión lineal ordinaria se busca encontrar una relación lineal tal que\n",
    " $$ f(x) = \\langle \\omega, x\\rangle + b$$, con $\\omega \\in \\mathbb{H}$ y $x \\in \\mathbb{R}.$\n",
    " Aquí, $\\langle \\cdot \\rangle$ representa el [_producto interno_](http://mathworld.wolfram.com/InnerProduct.html) en el espacio $\\mathbb{H}$.\n",
    " Al igual que en el caso de la _clasificación_, se requiere de un problema de _minimización_, esto es, el problema de _regresión_ se reduce a un problema\n",
    " de _clasificación_ que a su vez se reduce a un problema de _minimización._\n",
    "\n",
    " ### El problema de minimización\n",
    " NOTA: **No** se llevarán a cabo las demostraciones en esta libreta, y la presentación de las ecuaciones será meramente ilustrativa.\n",
    " Para aquella persona que desee conocer más al respecto, leer con detalle la referencia 3 y 6.\n",
    "\n",
    " Siguiendo la discusión anterior, el problema a minimizar es el siguiente:\n",
    " $$\n",
    " \\begin{aligned}\n",
    " & \\text{minimizar} \\quad\n",
    " \\frac{1}{2} \\vert \\vert \\omega \\vert \\vert^2 \\\\[2ex]\n",
    " & \\text{sujeto a }\n",
    " \\begin{cases}\n",
    " y_i - \\langle \\omega, x_i \\rangle - b \\leq \\varepsilon, \\\\[2ex]\n",
    " \\langle \\omega, x_i \\rangle + b - y_i \\leq \\varepsilon .\n",
    " \\end{cases}\n",
    " \\end{aligned}\n",
    " $$\n",
    "\n",
    " Este problema es en realidad un problema de _optimización convexa_ que es _viable_ cuando $f$ existe y aproxima todo los pares $(x_n,y_n)$ con precisión\n",
    " $\\varepsilon.$ Sin embargo, como en el caso de SVM de margen suave, existe una versión análoga para el caso de SVR donde se introducen dos variables\n",
    " que permitan un cierto margen de error, por lo que se puede reformular todo el problema de optimización anterior por el siguiente:\n",
    " $$\n",
    " \\begin{aligned}\n",
    " & \\text{minimizar} \\quad\n",
    " \\frac{1}{2} \\vert \\vert \\omega \\vert \\vert^2 + C \\sum_{i=1}^{N} (\\xi_i - \\xi_i^{\\star}) \\\\[2ex]\n",
    " & \\text{sujeto a }\n",
    " \\begin{cases}\n",
    " y_i - \\langle \\omega, x_i \\rangle - b &\\leq \\varepsilon + \\xi_i, \\\\[2ex]\n",
    " \\langle \\omega, x_i \\rangle + b - y_i &\\leq \\varepsilon + \\xi_i^{\\star}, \\\\[2ex]\n",
    " \\xi_i, \\xi_i^{\\star} &\\geq 0 .\n",
    " \\end{cases}\n",
    " \\end{aligned}\n",
    " $$\n",
    "\n",
    " Al final, y utilizando el mismo método de multiplicadores de Lagrange (ver la referencia 3), se obtiene la función con la que se encuentra el **modelo\n",
    " lineal**:\n",
    " $$ f(x) = \\sum_{i=1}^{N} (\\alpha_i - \\alpha_i^{\\star}) \\langle x_i, x \\rangle + b ,$$\n",
    " donde $\\alpha_i$ y $\\alpha_i^{\\star}$ son los _multiplicadores de Lagrange._\n",
    " Para el caso **no lineal** sólo basta modificar la ecuación anterior para incluir una _función kernel_ que realice un mapeo del espacio $\\mathbb{H}$\n",
    " tal que se obtiene la siguiente ecuación:\n",
    " $$ f(x) = \\sum_{i=1}^{N} (\\alpha_i - \\alpha_i^{\\star}) k(x_i, x) + b , $$ donde se tiene que\n",
    " $$\\omega = \\sum_{i=1}^{N} (\\alpha_i - \\alpha_i^{\\star}) \\phi(x_i)$$\n",
    " y $k(x_i, x) = \\varphi(x_i) \\varphi(x)$ es un _kernel de Mercer_ (revisar la referencia 4 para más información).\n",
    " ¿Cómo se determinan? Claro está que sin estos valores **no** se puede\n",
    " encontrar el modelo lineal buscado.\n",
    "\n",
    " ### Función de riesgo\n",
    " NOTA: **No** se llevarán a cabo las demostraciones en esta libreta, y la presentación de las ecuaciones será meramente ilustrativa.\n",
    " Para aquella persona que desee conocer más al respecto, leer con detalle la referencia 3 y 6.\n",
    "\n",
    " Continuando con el argumento anterior, dado que $\\omega$ está escrito en función de $\\alpha_i - \\alpha_i^{\\star}$ se puede entonces determinar estos\n",
    " parámetros en términos de $\\omega$ usando la siguiente [_funcional de riesgo_](https://en.wikipedia.org/wiki/Statistical_risk):\n",
    " $$ R_{reg}[f] = \\frac{1}{2} \\vert \\vert \\omega \\vert \\vert^2 + C \\sum_{i=1}^{N} L_{\\varepsilon}(y) ,$$\n",
    " donde $L_{\\varepsilon}(y)$ es la [_función de pérdida_](https://en.wikipedia.org/wiki/Loss_function) llamada _$\\varepsilon$-insensitive loss function_ definida\n",
    " originalmente por Vladimir Vapnik en la formulación original de este algoritmo como sigue:\n",
    " $$\n",
    " L_{\\varepsilon}(y) =\n",
    " \\begin{cases}\n",
    " \\qquad 0 , & \\quad \\text{para}\\ \\vert f(x) - y \\vert < \\varepsilon, \\\\[2ex]\n",
    " \\vert f(x) - y \\vert - \\varepsilon , & \\quad \\text{cualquier otro caso.}\n",
    " \\end{cases}\n",
    " $$\n",
    "\n",
    " Como se puede observar, este problema de optimización es complejo y difícil de resolver con métodos tradicionales. En esta libreta se empleará la librería estándar\n",
    " [libsvm](https://www.csie.ntu.edu.tw/~cjlin/libsvm/) que viene en la librería de Python _scikit-learn_ para realizar los ejemplos a continuación."
   ]
  },
  {
   "cell_type": "code",
   "execution_count": 2,
   "metadata": {},
   "outputs": [],
   "source": [
    "# Realizar todas las importaciones necesarias\n",
    "import numpy as np\n",
    "import matplotlib.pyplot as plt\n",
    "import seaborn as sns\n",
    "import pandas as pd\n",
    "from sklearn.datasets import make_regression\n",
    "from sklearn.svm import SVR\n",
    "from sklearn.linear_model import LassoCV\n",
    "from sklearn.preprocessing import MaxAbsScaler, PowerTransformer\n",
    "from sklearn.metrics import mean_squared_error\n",
    "from sklearn.utils import resample\n",
    "from sklearn.ensemble import BaggingRegressor\n",
    "from sklearn.model_selection import (\n",
    "    train_test_split,\n",
    "    KFold,\n",
    "    RandomizedSearchCV,\n",
    "    GridSearchCV,\n",
    "    RepeatedKFold\n",
    ")\n",
    "from scipy.stats import randint as sp_int\n",
    "from IPython.display import Latex\n",
    "# Definir el conjunto de colores de Seaborn\n",
    "sns.set()"
   ]
  },
  {
   "cell_type": "code",
   "execution_count": 3,
   "metadata": {},
   "outputs": [],
   "source": [
    "import os\n",
    "# Cargar el Firefly Algorithm, la metaheurística para encontrar los hiperparámetros adecuados\n",
    "# NOTA: Este comando carga todos los contenidos de firefly, usarlo bajo discreción\n",
    "firefly_arch = os.path.abspath('metaheuristicas/firefly/firefly.py')\n",
    "%run $firefly_arch\n"
   ]
  },
  {
   "cell_type": "markdown",
   "metadata": {},
   "source": [
    " ## 1. Complejidad del modelo (sobreajuste)\n",
    " En esta primera sección se implementa una regresión utilizando SVM aplicadas para el problema de\n",
    " regresión lineal. Sin embargo, como se ha visto en la teoría, las SVM pueden tomar una _función kernel_ para realizar un _mapeo_ de los datos\n",
    " originales a otro espacio para realizar el ajuste lineal. Sin embargo, cuando los datos son _lineales por naturaleza_ emplear un _kernel_\n",
    " puede provocar un **sobreajuste** del modelo.\n",
    "\n",
    " ### 1.1. Sobreajuste\n",
    " El _sobreajuste_ sucede cuando un modelo aprende muchas de las características base del conjunto de datos de entranamiento. Esto implica que\n",
    " cuando se aplica el método a datos diferentes el modelo _no_ puede diferenciar correctamente entre datos que **son** una características y\n",
    " datos que **no lo son.** Esto es fundamental, sobre todo en las SVM. ¿Porqué?\n",
    "\n",
    " Cuando se busca emplear las SVM se pretende que el número de vectores soporte (revisar referencia 3) sea muy pequeño tal que con un número limitado\n",
    " de datos el modelo tenga un buen ajuste; esta es una característica y ventaja de la naturaleza de las SVM. Sin embargo, cuando el modelo empieza a tener\n",
    " una **alta complejidad**, i.e. que tenga muchos hiperparámetros por determinar, el modelo describe a los datos de una forma errónea a su verdadera\n",
    " correlación. Una forma fácil de identificar el sobreajuste en un modelo de SVM es que el número de vectores soporte es muy grande, llegando al límite\n",
    " de que cada dato dentro del conjunto de datos es un vector soporte. Esto se estudiará con más detalle en el ejemplo a continuación."
   ]
  },
  {
   "cell_type": "code",
   "execution_count": 4,
   "metadata": {},
   "outputs": [],
   "source": [
    "# Crear un problema simple de regresión, se espera que sea totalemente\n",
    "# correlacionado y lineal\n",
    "X, y = make_regression(n_samples=400, n_features=1, n_informative=1, bias=5.0, noise=14.0, random_state=15)"
   ]
  },
  {
   "cell_type": "code",
   "execution_count": 5,
   "metadata": {},
   "outputs": [
    {
     "data": {
      "image/png": "[encoded data removed]",
      "text/plain": [
       "<Figure size 720x576 with 1 Axes>"
      ]
     },
     "metadata": {
      "needs_background": "light"
     },
     "output_type": "display_data"
    }
   ],
   "source": [
    "# Graficar estos datos para ver con qué se está trabajando\n",
    "plt.figure(figsize=(10, 8))\n",
    "plt.scatter(X, y)\n",
    "plt.show()"
   ]
  },
  {
   "cell_type": "markdown",
   "metadata": {},
   "source": [
    " Como se esperaba el modelo es lineal pero algo importante de notar es la implementación de _scikit-learn_ donde se tuvo que especificar\n",
    " un parámetro de _ruido_ y un parámetro de _bias_. En particular esto se tiene que hacer dado que la implementación crearía un modelo lineal\n",
    " perfecto, y se busca que el modelo tenga al menos una cierta _dispersión_ en los datos."
   ]
  },
  {
   "cell_type": "code",
   "execution_count": 6,
   "metadata": {},
   "outputs": [],
   "source": [
    "# Separar el conjunto de datos en prueba y entrenamiento\n",
    "x_train, x_test, y_train, y_test = train_test_split(X, y, test_size=0.25, random_state=10)"
   ]
  },
  {
   "cell_type": "markdown",
   "metadata": {},
   "source": [
    " ## 1.2. Kernel _lineal_\n",
    " Esta implementación de la SVM corresponde al modelo lineal que se presentó en la sección de teoría. Para este caso, se espera que este kernel\n",
    " sea el mejor y que tenga una muy buena representación respecto a la correlación de los datos. Si llegara a tener _sobreajuste_ se puede deber\n",
    " a la mala optimización o ajuste de los hiperparámetros."
   ]
  },
  {
   "cell_type": "code",
   "execution_count": 7,
   "metadata": {},
   "outputs": [
    {
     "data": {
      "text/plain": [
       "RandomizedSearchCV(cv=10, error_score='raise-deprecating',\n",
       "          estimator=SVR(C=1.0, cache_size=200, coef0=0.0, degree=3, epsilon=0.1,\n",
       "  gamma='auto_deprecated', kernel='linear', max_iter=-1, shrinking=True,\n",
       "  tol=0.001, verbose=False),\n",
       "          fit_params=None, iid=False, n_iter=25, n_jobs=-1,\n",
       "          param_distributions={'C': <scipy.stats._distn_infrastructure.rv_frozen object at 0x7facee8b6828>, 'epsilon': <scipy.stats._distn_infrastructure.rv_frozen object at 0x7facee90c080>},\n",
       "          pre_dispatch='2*n_jobs', random_state=None, refit=True,\n",
       "          return_train_score='warn', scoring='neg_mean_squared_error',\n",
       "          verbose=0)"
      ]
     },
     "execution_count": 7,
     "metadata": {},
     "output_type": "execute_result"
    }
   ],
   "source": [
    "# Crear un regresor con kernel lineal\n",
    "lineal = SVR(kernel='linear')\n",
    "# Definir parámetros para la validación cruzada\n",
    "params = {'C': sp_int(2**(-15), 2**15), 'epsilon': sp_int(2**(-8), 2**8)}\n",
    "# Realizar la validación cruzada aleatoria\n",
    "reg_lin = RandomizedSearchCV(lineal, param_distributions=params, scoring='neg_mean_squared_error',\n",
    "n_iter=25, cv=10, iid=False, n_jobs=-1)\n",
    "# Ajustar el modelo\n",
    "reg_lin.fit(x_train, y_train)"
   ]
  },
  {
   "cell_type": "markdown",
   "metadata": {},
   "source": [
    " ### Una nota sobre `RandomizedSearchCV`\n",
    " En esta parte del código se empleó la función [`RandomizedSearchCV`](https://scikit-learn.org/stable/modules/generated/sklearn.model_selection.RandomizedSearchCV.html)\n",
    " para realizar validación cruzada del kernel lineal. Esto se realizó dado que el rango de búsqueda para los hiperparámetros es muy grande, y el método\n",
    " usual de Grid Search tardaría demasiado tiempo.\n",
    " En particular, _Randomized Search Cross Validation_ emplea el uso de distribuciones de probabilidad para realizar un muestreo del espacio de\n",
    " búsqueda y crear un conjunto óptimo de hiperparámetros. Es importante notar que esto es _aleatorio_ y que **no** se busca el espacio completo\n",
    " por lo que es posible que no siempre se obtengan los mismos resultados. Después en esta libreta se empleará otro método mucho más eficiente\n",
    " pero se deja esta por referencia de que también es una opción viable y rápida para obtener casi los mismos resultados que Grid Search."
   ]
  },
  {
   "cell_type": "code",
   "execution_count": 8,
   "metadata": {},
   "outputs": [
    {
     "name": "stdout",
     "output_type": "stream",
     "text": [
      "SVR(C=27895, cache_size=200, coef0=0.0, degree=3, epsilon=23,\n",
      "  gamma='auto_deprecated', kernel='linear', max_iter=-1, shrinking=True,\n",
      "  tol=0.001, verbose=False)\n",
      "0.926005086474132\n"
     ]
    }
   ],
   "source": [
    "# Mostrar los méjores parámetros\n",
    "lineal = reg_lin.best_estimator_\n",
    "print(lineal)\n",
    "\n",
    "# Mostrar el R^2\n",
    "print(lineal.score(x_train, y_train))"
   ]
  },
  {
   "cell_type": "markdown",
   "metadata": {},
   "source": [
    " Aunque aquí estamos mostrando el valor de correlación $R^2$ este valor **no** es una buena métrica para este tipo de modelos. Este\n",
    " valor numérico sólo corresponde a la _correlación_ entre los datos, pero en particular nos importa _minimizar_ el error entre\n",
    " la predicción y los valores reales del conjunto de datos. Por lo tanto, es muy común (y se emplea en esta libreta) el uso de otro\n",
    " tipo de métricas, en especial el [error cuadrático medio](https://en.wikipedia.org/wiki/Mean_squared_error), definido matemáticamente\n",
    " como:\n",
    " $$ MSE = \\frac{1}{N} \\sum_{i=1}^{N} (Y_i - \\hat{Y}_i)^2 ,$$\n",
    " donde $Y$ son los datos reales y $\\hat{Y}$ son los datos predichos por el modelo."
   ]
  },
  {
   "cell_type": "code",
   "execution_count": 9,
   "metadata": {},
   "outputs": [
    {
     "data": {
      "text/plain": [
       "array([-45.32566418,  13.91728584,  48.11317912,   1.68247109,\n",
       "        22.17931347])"
      ]
     },
     "execution_count": 9,
     "metadata": {},
     "output_type": "execute_result"
    }
   ],
   "source": [
    "# Con este regresor, realizar predicciones\n",
    "y_pred = lineal.predict(x_test)\n",
    "# Mostrar solo algunos valores para visualización\n",
    "y_pred[:5]"
   ]
  },
  {
   "cell_type": "code",
   "execution_count": 10,
   "metadata": {},
   "outputs": [
    {
     "name": "stdout",
     "output_type": "stream",
     "text": [
      "RMSE para entrenamiento: 14.138992209805615\n",
      "RMSE para prueba: 15.018738447124914\n"
     ]
    }
   ],
   "source": [
    "# Calcular el error entre entrenamiento y prueba, se emplea la raíz cuadrada dado que MSE puede\n",
    "# ser un número muy grande\n",
    "print('RMSE para entrenamiento: {0}'.format(np.sqrt(np.abs(mean_squared_error(y_train, lineal.predict(x_train))))))\n",
    "print('RMSE para prueba: {0}'.format(np.sqrt(np.abs(mean_squared_error(y_test, y_pred)))))"
   ]
  },
  {
   "cell_type": "markdown",
   "metadata": {},
   "source": [
    " Dado que los errores son muy semejantes, **NO** existe sobreajuste del modelo. ¿A qué se debe esto? Es relativamente simple de ver.\n",
    " El error cuadrático medio es una medida de el desempeño del modelo para predecir los valores y la comparación con los datos\n",
    " originales, entonces, cuando el error es muy grande significa que el modelo **no predice** correctamente, no tiene la información\n",
    " suficiente de la _correlación_ entre los datos.\n",
    "\n",
    " En particular, cuando el modelo está _sobreajustado_ significa que ha tomado en cuenta muchas de las características de un subconjunto\n",
    " de los datos que **no** están presentes en todo el conjunto de datos por completo. De esta forma, el error será muy grande en un parte\n",
    " del proceso (e.g. la predicción del modelo) y será muy pequeño en la otra parte del proceso (e.g. el entrenamiento del modelo) debido\n",
    " a que no existe una **generalización** del modelo para otro subconjunto de datos dentro del mismo conjunto de datos total.\n",
    "\n",
    " Sin embargo, en este caso los errores medidos son relativamente _cercanos_ entre sí, lo que significa que el modelo puede **generalizar**\n",
    " efectivamente la _correlación_ de los datos, prediciendo correctamente los datos dentro de un margen de error."
   ]
  },
  {
   "cell_type": "markdown",
   "metadata": {},
   "source": [
    " ## 1.2. Kernel _base radial._\n",
    " El kernel de _base radial_ se define como\n",
    " $$ K(\\mathbf{x},\\mathbf{x'}) = \\exp{ \\left( - \\gamma \\vert \\vert \\mathbf{x} - \\mathbf{x'} \\vert \\vert^2 \\right)}$$\n",
    " y es importante notar que cuando se tiene el límite $\\gamma \\to 0$ entonces se recupera el _modelo lineal_ dado que\n",
    " $$ \\lim_{\\gamma \\to 0} \\exp{ \\left( - \\gamma \\vert \\vert \\mathbf{x} - \\mathbf{x'} \\vert \\vert^2 \\right)} = 1$$\n",
    " y usando la descripción presentada al principio de esta libreta, entonces el modelo se convierte a una función linea, recuperando entonces\n",
    " la regresión lineal con SVM.\n",
    "\n",
    " De esta forma se espera que el valor de $\\gamma$ que se encuentre sea pequeño, cercano a 0. Sin embargo, aunque esto se logre, este _kernel_\n",
    " se espera que tenga un bajo desempeño dado que tiene que mapear los datos a un espacio diferente y ahí realizar la separación lineal. Esto\n",
    " _no_ está garantizado y por tanto se _espera_ que exista un alto número de vectores soporte que sean empleados para crear el modelo."
   ]
  },
  {
   "cell_type": "markdown",
   "metadata": {},
   "source": [
    " ## Sección _bonus_. _Metaheurísticas._\n",
    " En esta sección se menciona rápidamente un método para realizar el ajuste de los hiperparámetros. En particular se desea minimizar el error\n",
    " de predicción y esto se puede traducir a la elección correcta de hiperparámetros que emplea el modelo tal que sean los mejores que efectivamente\n",
    " _minimizan_ algún tipo de métrica como el MSE.\n",
    "\n",
    " Las **metaheurísticas** son métodos de _optimización_ muy robustos que permiten la resolver problemas de optimización en muchas dimensiones, para\n",
    " funciones multimodales entre otras cosas.\n",
    "\n",
    " En particular, en esta libreta se emplean para el ajuste de hiperparámetros de las SVM, pero dado que no es el propósito de esta libreta realizar\n",
    " un estudio detallado y sistemático de estos algoritmos, sólo se menciona su mecánica general y en otra libreta se hará este estudio."
   ]
  },
  {
   "cell_type": "markdown",
   "metadata": {},
   "source": [
    " Se envuelve al objeto SVR en un función para después hacer uso de una metaheurística\n",
    " y poder realizar ajuste adecuado de hiperparámetros."
   ]
  },
  {
   "cell_type": "code",
   "execution_count": 11,
   "metadata": {},
   "outputs": [],
   "source": [
    "def svr_fnc(x, x_tr=None, x_ts=None, y_tr=None, y_ts=None):\n",
    "    # Crear una instancia del clasificador\n",
    "    reg = SVR(kernel='rbf', gamma=x[0], C=x[1], epsilon=x[2])\n",
    "    # Ajustarlo con los datos de entrenamiento\n",
    "    reg.fit(x_tr, y_tr)\n",
    "    y_pred = reg.predict(x_ts)\n",
    "    # Siempre se buscan valores positivos del accuracy\n",
    "    score = np.sqrt(np.abs(mean_squared_error(y_ts, y_pred)))\n",
    "\n",
    "    return score"
   ]
  },
  {
   "cell_type": "code",
   "execution_count": 12,
   "metadata": {},
   "outputs": [
    {
     "name": "stdout",
     "output_type": "stream",
     "text": [
      "[ 0.50328745 14.42967988  8.50010394]\n"
     ]
    }
   ],
   "source": [
    "# Separar el conjunto de datos para validación cruzada usando\n",
    "# separación de 10 pliegues\n",
    "n_pliegues = 10\n",
    "skf = KFold(n_splits=n_pliegues)\n",
    "\n",
    "# Estos arreglos guardarán los resultados finales\n",
    "# Este arreglo guarda los parámetros óptimos; gamma, C y epsilon\n",
    "res_vals = np.zeros(3)\n",
    "# Este arreglo guarda el valor de accuracy total\n",
    "fnc_total = np.array([])\n",
    "\n",
    "# Se comienza a iterar sobre los 10 pliegues de la validación cruzada\n",
    "for tr, ts in skf.split(x_train, y_train):\n",
    "    # Estos son los parámetros de entrada del Firefly Algorithm\n",
    "    kwargs = {'func': svr_fnc, 'dim': 3, 'tam_pob': 20, 'alpha': 0.9, 'beta': 0.2, 'gamma': 1.0, \n",
    "    'inf': 2**(-4), 'sup': 2**4}\n",
    "    # Se crea una instancia del Firefly Algorithm\n",
    "    fa_solve = FAOpt(**kwargs, args=(X[tr], X[ts], y[tr], y[ts]))\n",
    "    # Se llama al método que resuelve la optimización\n",
    "    res, fnc = fa_solve.optimizar(15, optim=True)\n",
    "    \n",
    "    # Se guardan los resultados de cada iteración\n",
    "    res_vals += res\n",
    "    fnc_total = np.append(fnc_total, fnc)\n",
    "\n",
    "# Los valores de los parámetros C y gamma deben estar normalizados, se divide por\n",
    "# el número de pliegues\n",
    "res_vals /= n_pliegues\n",
    "# Por visualización, se muestran los resultados óptimos (opcional)\n",
    "print(res_vals)"
   ]
  },
  {
   "cell_type": "code",
   "execution_count": 13,
   "metadata": {},
   "outputs": [
    {
     "name": "stdout",
     "output_type": "stream",
     "text": [
      "0.9001431023269089\n"
     ]
    }
   ],
   "source": [
    "# Por último, usando los valores óptimos encontrados se realiza la clasificación final\n",
    "reg_rbf = SVR(kernel='rbf', gamma=res_vals[0], C=res_vals[1], epsilon=res_vals[2])\n",
    "reg_rbf.fit(x_train, y_train)\n",
    "# Con este regresor, realizar predicciones\n",
    "y_pred = reg_rbf.predict(x_test)\n",
    "print(reg_rbf.score(x_test, y_test))"
   ]
  },
  {
   "cell_type": "code",
   "execution_count": 14,
   "metadata": {},
   "outputs": [
    {
     "name": "stdout",
     "output_type": "stream",
     "text": [
      "RMSE para entrenamiento: 17.518895327421152\n",
      "RMSE para prueba: 16.38813571137199\n"
     ]
    }
   ],
   "source": [
    "# Calcular el error entre entrenamiento y prueba\n",
    "print('RMSE para entrenamiento: {0}'.format(np.sqrt(np.abs(mean_squared_error(y_train, reg_rbf.predict(x_train))))))\n",
    "print('RMSE para prueba: {0}'.format(np.sqrt(np.abs(mean_squared_error(y_test, y_pred)))))"
   ]
  },
  {
   "cell_type": "markdown",
   "metadata": {},
   "source": [
    " Ahora bien, la variación de los errores encontrados _no_ es considerablemente grande, pero lo es. Esto puede significar que existe sobreajuste\n",
    " como se había conjeturado, pero no es una buena forma de comparación. Como se había comentado, otra forma útil de corroborar este hecho\n",
    " es encontrando el número de vectores soporte de cada modelo; entre mayor sea el modelo, es más complejo y por tanto puede existir un sobreajuste."
   ]
  },
  {
   "cell_type": "code",
   "execution_count": 15,
   "metadata": {},
   "outputs": [
    {
     "data": {
      "image/png": "[encoded data removed]",
      "text/plain": [
       "<Figure size 864x576 with 2 Axes>"
      ]
     },
     "metadata": {
      "needs_background": "light"
     },
     "output_type": "display_data"
    }
   ],
   "source": [
    "# Código tomado de\n",
    "# https://scikit-learn.org/stable/auto_examples/svm/plot_svm_regression.html#sphx-glr-auto-examples-svm-plot-svm-regression-py\n",
    "# y adaptado para esta libreta.\n",
    "lw = 2\n",
    "\n",
    "svrs = [lineal, reg_rbf]\n",
    "kernel_label = ['Lineal', 'RBF']\n",
    "model_color = ['m', 'c']\n",
    "\n",
    "fig, axes = plt.subplots(nrows=1, ncols=2, figsize=(12, 8), sharey=True)\n",
    "for ix, svr in enumerate(svrs):\n",
    "    # axes[ix].plot(X, svr.fit(X, y).predict(X), color=model_color[ix], lw=lw,\n",
    "    #               label='{} model'.format(kernel_label[ix]))\n",
    "    axes[ix].scatter(X, svr.fit(X, y).predict(X), color='r', lw=lw,\n",
    "                  label='{} model'.format(kernel_label[ix]))\n",
    "    axes[ix].scatter(X[svr.support_], y[svr.support_], facecolor=\"none\",\n",
    "                     edgecolor=model_color[ix], s=50,\n",
    "                     label='{} support vectors'.format(kernel_label[ix]))\n",
    "    axes[ix].scatter(X[np.setdiff1d(np.arange(len(X)), svr.support_)],\n",
    "                     y[np.setdiff1d(np.arange(len(X)), svr.support_)],\n",
    "                     facecolor=\"none\", edgecolor=\"k\", s=50,\n",
    "                     label='other training data')\n",
    "    axes[ix].legend(loc='upper center', bbox_to_anchor=(0.5, 1.1),\n",
    "                    ncol=1, fancybox=True, shadow=True)\n",
    "\n",
    "fig.text(0.5, 0.04, 'data', ha='center', va='center')\n",
    "fig.text(0.06, 0.5, 'target', ha='center', va='center', rotation='vertical')\n",
    "fig.suptitle(\"Support Vector Regression\", fontsize=14)\n",
    "plt.show()"
   ]
  },
  {
   "cell_type": "markdown",
   "metadata": {},
   "source": [
    " ## Conclusiones\n",
    "\n",
    " 1. Como se puede ver, existe un número mayor de vectores soporte para el kernel _rbf_, que era de esperarse. La figura que crea la gráfica puede\n",
    " mejorarse si el valor de $\\gamma$ es más pequeño, pero aquí lo importante es el número de vectores soporte. Claramente este caso es lineal\n",
    " y debe utilizarse un kernel _lineal_ para este problema.\n",
    "\n",
    " 2. La parte importante de crear estos modelos de inteligencia computacional para _regresión_ es la **predicción**. ¿Qué tan bien predicen\n",
    " estos modelos? Por el _análisis_ de los errores encontrados y los coeficientes de correlación, claramente el kernel _lineal_ es el mejor\n",
    " pero se puede argumentar que dentro de un margen de error el kernel _rbf_ es aceptable.\n",
    "\n",
    " 3. Por último, siempre es preferible un modelo que tenga una **menor complejidad**, i.e. el número de hiperparámetros es pequeño. Esto porque\n",
    " facilita la búsqueda de estos valores, es más eficiente y se puede evitar en gran medida el problema de _sobreajuste._ En dado caso que\n",
    " el problema lo requiera y se necesite un kernel de tipo _rbf_ se puede emplear una _metaheurística_ para acelerar considerablemente la búsqueda\n",
    " de los hiperparámetros."
   ]
  },
  {
   "cell_type": "markdown",
   "metadata": {},
   "source": [
    " ## 2. Aplicación: aceleración de la gravedad (_revisited_)\n",
    " En muchas ramas de la ciencia, pero específicamente en Física, determinar el valor de la **aceleración de la gravedad** es un ejercicio\n",
    " clásico que se realiza para conocer sobre el diseño de experimentos y la _excepcional_ precisión de las leyes de Newton.\n",
    "\n",
    " ### Problema a resolver.\n",
    " De las leyes de Newton se sabe que la relación entre la aceleración y la posición de una partícula puntual sigue la forma:\n",
    " $$ \\frac{d^2 \\mathbb{x}}{dt^2} = m \\mathbb{a}$$\n",
    " donde $\\mathbb{x}$ es la posición de la partícula, $\\mathbb{a}$ su aceleración, $m$ su masa y $t$ es el tiempo.\n",
    "\n",
    " Cuando una partícula puntual está sujeta a la influencia de un campo gravitacional, entonces se puede redefinir la ecuación anterior\n",
    " de la siguiente forma:\n",
    " $$ m \\frac{d^2 x}{dt^2} = m g$$\n",
    " donde ahora $g$ es la **constante de aceleración de la gravedad**, donde ahora la posición es un número real, en lugar de un vector,\n",
    " porque la caída libre se experimenta en una sola dimensión espacial.\n",
    "\n",
    " Utilizando los conceptos básicos de la _teoría de las ecuaciones diferenciales_ se encuentra la siguiente expresión:\n",
    " $$ \\frac{d \\mathbb{x}}{dt} = g t + v_o$$\n",
    " donde $v_o$ es la velocidad inicial de la partícula, y entonces se ha encontrado un modelo lineal general para este fenómeno, i.e.\n",
    " $$ v(t) = g t + v_o $$\n",
    " y este modelo se puede utilizar para encontrar $g$ si se realizan mediciones de $t$ y $v.$\n",
    "\n",
    " ### Sobre el diseño de experimentos.\n",
    " Como se menciona anteriormente, se puede determinar fácilmente esta constante universal con este experimento. Pero este tipo de ajustes\n",
    " se realizan cuando existe un fenómeno que se pretende estudiar y es cuando se **diseña** un experimento alrededor de éste. Esto implica varias\n",
    " cosas: ya se sabe la relación entre las variables, ya se conocen las escalas, y sobre todo, se pueden controlar datos _atípicos_ (en el mejor\n",
    " de los casos). En este tipo de situaciones, sólo basta encontrar los parámetros y una regresión lineal ordinaria lo puede realizar.\n",
    " ¿Qué puede ofrecer la _inteligencia computacional_ en este aspecto?\n",
    "\n",
    " ### Inteligencia Computacional para experimentos\n",
    " Aunque los métodos de inteligencia computacional son empleados cuando _no_ se conoce una relación entre las variables, en este tipo de casos\n",
    " aún es muy válido emplear los métodos para diversas situaciones: eliminación de ruido, procesamiento de datos, elección de las características\n",
    " más importantes, entre muchas otras cosas. En esta sección se presenta el uso de máquinas de soporte vectorial para este tipo de experimentos\n",
    " y poder determinar los coeficientes necesarios.\n",
    "\n",
    " ### Hipótesis y datos del experimento\n",
    " En este experimento se presentan mediciones de _velocidades_ y _tiempos_ de una pelota al caer un altura de un metro. El **objetivo** es encontrar\n",
    " un modelo lineal tal que los parámetros de la _función de decisión_ obtenida sean los valores reales o aproximados. El movimiento de la pelota\n",
    " fue grabada con una cámara de video y luego procesado mediante software especializado; es posible que exista ruido en estas mediciones.\n",
    "\n",
    " En particular, se espera que el valor de la ordenada al origen sea cero, dado que corresponde a $v_o$ que es la velocidad inicial y la pelota\n",
    " parte del reposo.\n",
    "\n",
    " Se pretende encontrar un valor cercano al valor real de $g = 9.81 m/s$ con signo negativo."
   ]
  },
  {
   "cell_type": "code",
   "execution_count": 16,
   "metadata": {},
   "outputs": [],
   "source": [
    "# Importar los datos con pandas\n",
    "gravedad_datos = os.path.abspath('datasets/gravedad.csv')\n",
    "data = pd.read_csv(gravedad_datos)"
   ]
  },
  {
   "cell_type": "code",
   "execution_count": 17,
   "metadata": {},
   "outputs": [
    {
     "data": {
      "text/html": [
       "<div>\n",
       "<style scoped>\n",
       "    .dataframe tbody tr th:only-of-type {\n",
       "        vertical-align: middle;\n",
       "    }\n",
       "\n",
       "    .dataframe tbody tr th {\n",
       "        vertical-align: top;\n",
       "    }\n",
       "\n",
       "    .dataframe thead th {\n",
       "        text-align: right;\n",
       "    }\n",
       "</style>\n",
       "<table border=\"1\" class=\"dataframe\">\n",
       "  <thead>\n",
       "    <tr style=\"text-align: right;\">\n",
       "      <th></th>\n",
       "      <th>cuadro</th>\n",
       "      <th>t</th>\n",
       "      <th>x</th>\n",
       "      <th>y</th>\n",
       "      <th>Unnamed: 4</th>\n",
       "      <th>a_{y}</th>\n",
       "      <th>v_{y}</th>\n",
       "    </tr>\n",
       "  </thead>\n",
       "  <tbody>\n",
       "    <tr>\n",
       "      <th>0</th>\n",
       "      <td>1</td>\n",
       "      <td>0.000</td>\n",
       "      <td>0</td>\n",
       "      <td>0.069</td>\n",
       "      <td>0.0069</td>\n",
       "      <td>--</td>\n",
       "      <td>--</td>\n",
       "    </tr>\n",
       "    <tr>\n",
       "      <th>1</th>\n",
       "      <td>2</td>\n",
       "      <td>0.042</td>\n",
       "      <td>0</td>\n",
       "      <td>0.059</td>\n",
       "      <td>0.0059</td>\n",
       "      <td>--</td>\n",
       "      <td>-0.28</td>\n",
       "    </tr>\n",
       "    <tr>\n",
       "      <th>2</th>\n",
       "      <td>3</td>\n",
       "      <td>0.083</td>\n",
       "      <td>0</td>\n",
       "      <td>0.046</td>\n",
       "      <td>0.0046</td>\n",
       "      <td>-6.108</td>\n",
       "      <td>-0.408</td>\n",
       "    </tr>\n",
       "    <tr>\n",
       "      <th>3</th>\n",
       "      <td>4</td>\n",
       "      <td>0.125</td>\n",
       "      <td>0</td>\n",
       "      <td>0.025</td>\n",
       "      <td>0.0025</td>\n",
       "      <td>-9.835</td>\n",
       "      <td>-0.778</td>\n",
       "    </tr>\n",
       "    <tr>\n",
       "      <th>4</th>\n",
       "      <td>5</td>\n",
       "      <td>0.167</td>\n",
       "      <td>0</td>\n",
       "      <td>-0.019</td>\n",
       "      <td>-0.0019</td>\n",
       "      <td>-12.345</td>\n",
       "      <td>-1.258</td>\n",
       "    </tr>\n",
       "    <tr>\n",
       "      <th>5</th>\n",
       "      <td>6</td>\n",
       "      <td>0.209</td>\n",
       "      <td>0</td>\n",
       "      <td>-0.080</td>\n",
       "      <td>-0.0080</td>\n",
       "      <td>-11.362</td>\n",
       "      <td>-1.787</td>\n",
       "    </tr>\n",
       "    <tr>\n",
       "      <th>6</th>\n",
       "      <td>7</td>\n",
       "      <td>0.250</td>\n",
       "      <td>0</td>\n",
       "      <td>-0.168</td>\n",
       "      <td>-0.0168</td>\n",
       "      <td>-9.99</td>\n",
       "      <td>-2.244</td>\n",
       "    </tr>\n",
       "    <tr>\n",
       "      <th>7</th>\n",
       "      <td>8</td>\n",
       "      <td>0.292</td>\n",
       "      <td>0</td>\n",
       "      <td>-0.268</td>\n",
       "      <td>-0.0268</td>\n",
       "      <td>-9.395</td>\n",
       "      <td>-2.588</td>\n",
       "    </tr>\n",
       "    <tr>\n",
       "      <th>8</th>\n",
       "      <td>9</td>\n",
       "      <td>0.334</td>\n",
       "      <td>0</td>\n",
       "      <td>-0.384</td>\n",
       "      <td>-0.0384</td>\n",
       "      <td>-10.818</td>\n",
       "      <td>-3.03</td>\n",
       "    </tr>\n",
       "    <tr>\n",
       "      <th>9</th>\n",
       "      <td>10</td>\n",
       "      <td>0.375</td>\n",
       "      <td>0</td>\n",
       "      <td>-0.520</td>\n",
       "      <td>-0.0520</td>\n",
       "      <td>-10.042</td>\n",
       "      <td>-3.498</td>\n",
       "    </tr>\n",
       "    <tr>\n",
       "      <th>10</th>\n",
       "      <td>11</td>\n",
       "      <td>0.417</td>\n",
       "      <td>0</td>\n",
       "      <td>-0.676</td>\n",
       "      <td>-0.0676</td>\n",
       "      <td>-6.045</td>\n",
       "      <td>-3.876</td>\n",
       "    </tr>\n",
       "    <tr>\n",
       "      <th>11</th>\n",
       "      <td>12</td>\n",
       "      <td>0.459</td>\n",
       "      <td>0</td>\n",
       "      <td>-0.844</td>\n",
       "      <td>-0.0844</td>\n",
       "      <td>--</td>\n",
       "      <td>-4.015</td>\n",
       "    </tr>\n",
       "    <tr>\n",
       "      <th>12</th>\n",
       "      <td>13</td>\n",
       "      <td>0.500</td>\n",
       "      <td>0</td>\n",
       "      <td>-1.011</td>\n",
       "      <td>-0.1011</td>\n",
       "      <td>--</td>\n",
       "      <td>--</td>\n",
       "    </tr>\n",
       "  </tbody>\n",
       "</table>\n",
       "</div>"
      ],
      "text/plain": [
       "    cuadro      t  x      y  Unnamed: 4    a_{y}   v_{y}\n",
       "0        1  0.000  0  0.069      0.0069       --      --\n",
       "1        2  0.042  0  0.059      0.0059       --   -0.28\n",
       "2        3  0.083  0  0.046      0.0046   -6.108  -0.408\n",
       "3        4  0.125  0  0.025      0.0025   -9.835  -0.778\n",
       "4        5  0.167  0 -0.019     -0.0019  -12.345  -1.258\n",
       "5        6  0.209  0 -0.080     -0.0080  -11.362  -1.787\n",
       "6        7  0.250  0 -0.168     -0.0168    -9.99  -2.244\n",
       "7        8  0.292  0 -0.268     -0.0268   -9.395  -2.588\n",
       "8        9  0.334  0 -0.384     -0.0384  -10.818   -3.03\n",
       "9       10  0.375  0 -0.520     -0.0520  -10.042  -3.498\n",
       "10      11  0.417  0 -0.676     -0.0676   -6.045  -3.876\n",
       "11      12  0.459  0 -0.844     -0.0844       --  -4.015\n",
       "12      13  0.500  0 -1.011     -0.1011       --      --"
      ]
     },
     "execution_count": 17,
     "metadata": {},
     "output_type": "execute_result"
    }
   ],
   "source": [
    "# Se pueden ver los datos\n",
    "data"
   ]
  },
  {
   "cell_type": "code",
   "execution_count": 18,
   "metadata": {},
   "outputs": [],
   "source": [
    "# Como faltan datos, se quitan la primera y última filas\n",
    "data = data.drop([0, 12])"
   ]
  },
  {
   "cell_type": "code",
   "execution_count": 19,
   "metadata": {},
   "outputs": [
    {
     "data": {
      "text/html": [
       "<div>\n",
       "<style scoped>\n",
       "    .dataframe tbody tr th:only-of-type {\n",
       "        vertical-align: middle;\n",
       "    }\n",
       "\n",
       "    .dataframe tbody tr th {\n",
       "        vertical-align: top;\n",
       "    }\n",
       "\n",
       "    .dataframe thead th {\n",
       "        text-align: right;\n",
       "    }\n",
       "</style>\n",
       "<table border=\"1\" class=\"dataframe\">\n",
       "  <thead>\n",
       "    <tr style=\"text-align: right;\">\n",
       "      <th></th>\n",
       "      <th>cuadro</th>\n",
       "      <th>t</th>\n",
       "      <th>x</th>\n",
       "      <th>y</th>\n",
       "      <th>Unnamed: 4</th>\n",
       "      <th>a_{y}</th>\n",
       "      <th>v_{y}</th>\n",
       "    </tr>\n",
       "  </thead>\n",
       "  <tbody>\n",
       "    <tr>\n",
       "      <th>1</th>\n",
       "      <td>2</td>\n",
       "      <td>0.042</td>\n",
       "      <td>0</td>\n",
       "      <td>0.059</td>\n",
       "      <td>0.0059</td>\n",
       "      <td>--</td>\n",
       "      <td>-0.28</td>\n",
       "    </tr>\n",
       "    <tr>\n",
       "      <th>2</th>\n",
       "      <td>3</td>\n",
       "      <td>0.083</td>\n",
       "      <td>0</td>\n",
       "      <td>0.046</td>\n",
       "      <td>0.0046</td>\n",
       "      <td>-6.108</td>\n",
       "      <td>-0.408</td>\n",
       "    </tr>\n",
       "    <tr>\n",
       "      <th>3</th>\n",
       "      <td>4</td>\n",
       "      <td>0.125</td>\n",
       "      <td>0</td>\n",
       "      <td>0.025</td>\n",
       "      <td>0.0025</td>\n",
       "      <td>-9.835</td>\n",
       "      <td>-0.778</td>\n",
       "    </tr>\n",
       "    <tr>\n",
       "      <th>4</th>\n",
       "      <td>5</td>\n",
       "      <td>0.167</td>\n",
       "      <td>0</td>\n",
       "      <td>-0.019</td>\n",
       "      <td>-0.0019</td>\n",
       "      <td>-12.345</td>\n",
       "      <td>-1.258</td>\n",
       "    </tr>\n",
       "    <tr>\n",
       "      <th>5</th>\n",
       "      <td>6</td>\n",
       "      <td>0.209</td>\n",
       "      <td>0</td>\n",
       "      <td>-0.080</td>\n",
       "      <td>-0.0080</td>\n",
       "      <td>-11.362</td>\n",
       "      <td>-1.787</td>\n",
       "    </tr>\n",
       "    <tr>\n",
       "      <th>6</th>\n",
       "      <td>7</td>\n",
       "      <td>0.250</td>\n",
       "      <td>0</td>\n",
       "      <td>-0.168</td>\n",
       "      <td>-0.0168</td>\n",
       "      <td>-9.99</td>\n",
       "      <td>-2.244</td>\n",
       "    </tr>\n",
       "    <tr>\n",
       "      <th>7</th>\n",
       "      <td>8</td>\n",
       "      <td>0.292</td>\n",
       "      <td>0</td>\n",
       "      <td>-0.268</td>\n",
       "      <td>-0.0268</td>\n",
       "      <td>-9.395</td>\n",
       "      <td>-2.588</td>\n",
       "    </tr>\n",
       "    <tr>\n",
       "      <th>8</th>\n",
       "      <td>9</td>\n",
       "      <td>0.334</td>\n",
       "      <td>0</td>\n",
       "      <td>-0.384</td>\n",
       "      <td>-0.0384</td>\n",
       "      <td>-10.818</td>\n",
       "      <td>-3.03</td>\n",
       "    </tr>\n",
       "    <tr>\n",
       "      <th>9</th>\n",
       "      <td>10</td>\n",
       "      <td>0.375</td>\n",
       "      <td>0</td>\n",
       "      <td>-0.520</td>\n",
       "      <td>-0.0520</td>\n",
       "      <td>-10.042</td>\n",
       "      <td>-3.498</td>\n",
       "    </tr>\n",
       "    <tr>\n",
       "      <th>10</th>\n",
       "      <td>11</td>\n",
       "      <td>0.417</td>\n",
       "      <td>0</td>\n",
       "      <td>-0.676</td>\n",
       "      <td>-0.0676</td>\n",
       "      <td>-6.045</td>\n",
       "      <td>-3.876</td>\n",
       "    </tr>\n",
       "    <tr>\n",
       "      <th>11</th>\n",
       "      <td>12</td>\n",
       "      <td>0.459</td>\n",
       "      <td>0</td>\n",
       "      <td>-0.844</td>\n",
       "      <td>-0.0844</td>\n",
       "      <td>--</td>\n",
       "      <td>-4.015</td>\n",
       "    </tr>\n",
       "  </tbody>\n",
       "</table>\n",
       "</div>"
      ],
      "text/plain": [
       "    cuadro      t  x      y  Unnamed: 4    a_{y}   v_{y}\n",
       "1        2  0.042  0  0.059      0.0059       --   -0.28\n",
       "2        3  0.083  0  0.046      0.0046   -6.108  -0.408\n",
       "3        4  0.125  0  0.025      0.0025   -9.835  -0.778\n",
       "4        5  0.167  0 -0.019     -0.0019  -12.345  -1.258\n",
       "5        6  0.209  0 -0.080     -0.0080  -11.362  -1.787\n",
       "6        7  0.250  0 -0.168     -0.0168    -9.99  -2.244\n",
       "7        8  0.292  0 -0.268     -0.0268   -9.395  -2.588\n",
       "8        9  0.334  0 -0.384     -0.0384  -10.818   -3.03\n",
       "9       10  0.375  0 -0.520     -0.0520  -10.042  -3.498\n",
       "10      11  0.417  0 -0.676     -0.0676   -6.045  -3.876\n",
       "11      12  0.459  0 -0.844     -0.0844       --  -4.015"
      ]
     },
     "execution_count": 19,
     "metadata": {},
     "output_type": "execute_result"
    }
   ],
   "source": [
    "# Revisar de nuevo los datos para asegurarse que todo está bien\n",
    "data"
   ]
  },
  {
   "cell_type": "code",
   "execution_count": 20,
   "metadata": {},
   "outputs": [
    {
     "name": "stdout",
     "output_type": "stream",
     "text": [
      "[[0.042]\n",
      " [0.083]\n",
      " [0.125]\n",
      " [0.167]\n",
      " [0.209]\n",
      " [0.25 ]\n",
      " [0.292]\n",
      " [0.334]\n",
      " [0.375]\n",
      " [0.417]\n",
      " [0.459]]\n",
      "[-0.28  -0.408 -0.778 -1.258 -1.787 -2.244 -2.588 -3.03  -3.498 -3.876\n",
      " -4.015]\n"
     ]
    }
   ],
   "source": [
    "# Dado que sólo importan las columnas de t y v, se extraen de los datos\n",
    "X = np.asarray(data['t'].values).reshape(-1, 1)\n",
    "y = np.asarray(data['v_{y}'].values).astype(np.float)\n",
    "print(X)\n",
    "print(y)"
   ]
  },
  {
   "cell_type": "code",
   "execution_count": 21,
   "metadata": {},
   "outputs": [
    {
     "data": {
      "image/png": "[encoded data removed]",
      "text/plain": [
       "<Figure size 720x432 with 1 Axes>"
      ]
     },
     "metadata": {
      "needs_background": "light"
     },
     "output_type": "display_data"
    }
   ],
   "source": [
    "# Graficar los datos para visualizar el dataset\n",
    "plt.figure(figsize=(10, 6))\n",
    "plt.scatter(X, y)\n",
    "plt.xlabel(r'$t$')\n",
    "plt.ylabel(r'$v_{y}$')\n",
    "plt.show()"
   ]
  },
  {
   "cell_type": "markdown",
   "metadata": {},
   "source": [
    " ## 2.1. _Primer_ intento, acercamiento _ingenuo_ a los datos.\n",
    " En esta primera etapa se realiza una gráfica de los datos con la regresión lineal ordinaria, así como la estimación\n",
    " de los parámetros del modelo lineal. Sin embargo, como se ha visto el número de datos es muy reducido, y tomando\n",
    " en cuenta que es posible que exista una posible fuente de error en los datos. ¿Se puede confiar en este tipo\n",
    " de análisis?"
   ]
  },
  {
   "cell_type": "code",
   "execution_count": 22,
   "metadata": {},
   "outputs": [
    {
     "data": {
      "text/plain": [
       "<matplotlib.axes._subplots.AxesSubplot at 0x7facee77b320>"
      ]
     },
     "execution_count": 22,
     "metadata": {},
     "output_type": "execute_result"
    },
    {
     "data": {
      "image/png": "[encoded data removed]",
      "text/plain": [
       "<Figure size 720x432 with 1 Axes>"
      ]
     },
     "metadata": {
      "needs_background": "light"
     },
     "output_type": "display_data"
    }
   ],
   "source": [
    "# Visualizar el intervalo de confianza de una regresión lineal\n",
    "plt.figure(figsize=(10,6))\n",
    "sns.regplot(X, y)"
   ]
  },
  {
   "cell_type": "code",
   "execution_count": 23,
   "metadata": {},
   "outputs": [
    {
     "name": "stdout",
     "output_type": "stream",
     "text": [
      "Slope: -9.819628082683765, Const: 0.2974032828753095, R^2: -0.9962945950791025\n"
     ]
    }
   ],
   "source": [
    "from scipy.stats import linregress\n",
    "slope, intercept, rvalue, __, __ = linregress(data['t'].values, y)\n",
    "print(f'Slope: {slope}, Const: {intercept}, R^2: {rvalue}')"
   ]
  },
  {
   "cell_type": "code",
   "execution_count": 24,
   "metadata": {},
   "outputs": [
    {
     "name": "stdout",
     "output_type": "stream",
     "text": [
      "                            OLS Regression Results                            \n",
      "==============================================================================\n",
      "Dep. Variable:                      y   R-squared:                       0.993\n",
      "Model:                            OLS   Adj. R-squared:                  0.992\n",
      "Method:                 Least Squares   F-statistic:                     1208.\n",
      "Date:                Mon, 01 Apr 2019   Prob (F-statistic):           6.68e-11\n",
      "Time:                        08:00:46   Log-Likelihood:                 8.4925\n",
      "No. Observations:                  11   AIC:                            -12.98\n",
      "Df Residuals:                       9   BIC:                            -12.19\n",
      "Df Model:                           1                                         \n",
      "Covariance Type:            nonrobust                                         \n",
      "==============================================================================\n",
      "                 coef    std err          t      P>|t|       [0.05       0.95]\n",
      "------------------------------------------------------------------------------\n",
      "const          0.2974      0.080      3.720      0.005       0.151       0.444\n",
      "x1            -9.8196      0.283    -34.752      0.000     -10.338      -9.302\n",
      "==============================================================================\n",
      "Omnibus:                        1.292   Durbin-Watson:                   1.339\n",
      "Prob(Omnibus):                  0.524   Jarque-Bera (JB):                0.854\n",
      "Skew:                           0.365   Prob(JB):                        0.653\n",
      "Kurtosis:                       1.847   Cond. No.                         8.06\n",
      "==============================================================================\n",
      "\n",
      "Warnings:\n",
      "[1] Standard Errors assume that the covariance matrix of the errors is correctly specified.\n"
     ]
    },
    {
     "name": "stderr",
     "output_type": "stream",
     "text": [
      "/home/edwin/anaconda3/lib/python3.7/site-packages/scipy/stats/stats.py:1416: UserWarning: kurtosistest only valid for n>=20 ... continuing anyway, n=11\n",
      "  \"anyway, n=%i\" % int(n))\n"
     ]
    }
   ],
   "source": [
    "import statsmodels.api as sm\n",
    "x_sts = sm.add_constant(X)\n",
    "mod = sm.OLS(y, x_sts)\n",
    "res = mod.fit()\n",
    "print(res.summary(alpha=0.1))"
   ]
  },
  {
   "cell_type": "markdown",
   "metadata": {},
   "source": [
    " Ahora se puede visualizar con más claridad el intervalo de confianza de los parámetros, y los parámetros mismos. Por la forma\n",
    " de la figura se espera que estos valores sean confiables dentro del margen de error, pero es muy pequeño. ¿Cómo se puede asegurar\n",
    " que este intervalo de confianza no se ve afectado por datos atípicos o mediciones erróneas? La incertidumbre de las mediciones\n",
    " puede jugar un papel importante en este intervalo de confianza.\n",
    "\n",
    " Por lo tanto, para estar asegurarse completamente de estos valores, se propone la siguiente metodología:\n",
    "\n",
    " 1. Empleando SVM de kernel _lineal_ realizar la estimación de los datos.\n",
    " 2. Para asegurarse del intervalo de confianza, se propone realizar _remuestreo_ mediante **dos** técnicas:\n",
    "\n",
    " a. **boostrap**, y\n",
    "\n",
    " b. **validación cruzada repetida de 5 pliegues**.\n"
   ]
  },
  {
   "cell_type": "code",
   "execution_count": 25,
   "metadata": {},
   "outputs": [
    {
     "name": "stdout",
     "output_type": "stream",
     "text": [
      "(11, 1)\n"
     ]
    }
   ],
   "source": [
    "# Antes que nada, estandarizar los datos\n",
    "scaler = MaxAbsScaler()\n",
    "# Cambiar la forma del arreglo original para mantener consistencia\n",
    "X = scaler.fit_transform(X)\n",
    "print(X.shape)"
   ]
  },
  {
   "cell_type": "markdown",
   "metadata": {},
   "source": [
    " Recordar que para emplear SVR los datos deben de estar _estandarizados_, i.e. que tengan _media_ cero y desviación _estándar_.\n",
    " Si esto suena familiar es porque se asemeja a una de las hipótesis fundamentales de la regresión lineal ordinaria, pero ahora\n",
    " es para los datos y no para los errores.\n",
    "\n",
    " Este argumento se realiza porque la función que se acaba de emplear, `MaxAbsScaler`, _no_ estandariza los datos como tal, sino\n",
    " que los escala hacia el valor más grande del conjunto de datos. Pero esto es suficiente para la SVM, y además esto permite que\n",
    " la recuperación de los parámetros que se buscan sea más fácil.\n",
    "\n",
    " Como **nota** importante debe mencionarse que la función ideal para la transformación de datos dentro de _scikit-learn_ puede\n",
    " ser `StandardScaler` cuando se pretenda trabajar con SVM."
   ]
  },
  {
   "cell_type": "code",
   "execution_count": 26,
   "metadata": {},
   "outputs": [
    {
     "name": "stdout",
     "output_type": "stream",
     "text": [
      "(11,)\n"
     ]
    }
   ],
   "source": [
    "# Debe de ser el mismo número que antes para mantener la consistencia de los datos\n",
    "print(y.shape)"
   ]
  },
  {
   "cell_type": "markdown",
   "metadata": {},
   "source": [
    " ## 2.2. _Bootstrap_ y el intervalo de confianza de remuestreos\n",
    " **NOTA:** Para más información visitar la referencia 7 y los libros estándar de texto de estadística.\n",
    "\n",
    " El método de **bootstrap** es un método de muestreo muy simple: dado un conjunto de datos, se escoge un número que será el número total\n",
    " de datos que se tomarán del conjunto de datos original, i.e. el **número de la muestra**. Luego, estos datos se devuelven al conjunto original\n",
    " y se vuelven a tomar datos del conjunto de datos original, con _reemplazo_, y así consecutivamente, tantas veces como se desee.\n",
    " Es un método simple, y ahora se explicará para qué sirve y porqué se utiliza en esta libreta.\n",
    "\n",
    " Para el caso del _bootstrap_ se puede aplicar de la siguiente forma: se pretende saber si los errores siguen una distribución normal para\n",
    " satisfacer las hipótesis de la regresión lineal ordinaria.\n",
    "\n",
    " Adicionalmente, se puede construir un intervalo de confianza para los **parámetros** del modelo de regresión lineal, tal que cuando se estimen\n",
    " se pueda asegurar que dentro de un margen probabilístico, los valores son certeros.\n",
    " Este intervalo de confianza se construirá a partir de [percentiles](https://en.wikipedia.org/wiki/Percentile) utilizando el $95^o$ percentil\n",
    " de los datos obtenidos con el remuestreo.\n",
    "\n",
    " Sobre el uso del _remuestreo_ es importante mencionar que se debe utilizar debido al número reducido de datos en el conjunto total de datos.\n",
    " Dado que es un número pequeño, el hecho de construir un intervalo de confianza con todas las muestras nuevas permite que la determinación\n",
    " de los parámetros sea mucho más creíble y robusto.\n",
    "\n",
    " El acercamiento que se pretende en esta subsección se puede desglosar de la siguiente forma:\n",
    "\n",
    " 1. Crear tantas muestras como se pueda utilizando la técnica de **bootstrap.**\n",
    " 2. Construir un intervalo de confianza alrededor de la _media_ de los errores para asegurar que los parámetros obtenidos\n"
   ]
  },
  {
   "cell_type": "code",
   "execution_count": 27,
   "metadata": {},
   "outputs": [],
   "source": [
    "# Primero, separar el conjunto de datos para crear el mejor modelo a utilizarse.\n",
    "x_train, x_test, y_train, y_test = train_test_split(X, y, test_size=0.2, random_state=9)\n",
    "grv = SVR(kernel='linear')\n",
    "params = {'C': np.logspace(-5, 5), 'epsilon': np.logspace(-4, 4)}\n",
    "grv_cv = GridSearchCV(grv, param_grid=params, scoring='neg_mean_squared_error', cv=5,\n",
    "iid=False, n_jobs=-1)\n",
    "grv_cv.fit(x_train, y_train)\n",
    "# Se guarda este estimador para lo que resta de esta sección.\n",
    "grv = grv_cv.best_estimator_"
   ]
  },
  {
   "cell_type": "markdown",
   "metadata": {},
   "source": [
    " **ADVERTENCIA:** Este número de repeticiones puede tardar mucho en ejecución, para resultados\n",
    " ilustrativos reducir el número a 1000 o 10000."
   ]
  },
  {
   "cell_type": "code",
   "execution_count": 28,
   "metadata": {},
   "outputs": [
    {
     "data": {
      "text/plain": [
       "5"
      ]
     },
     "execution_count": 28,
     "metadata": {},
     "output_type": "execute_result"
    }
   ],
   "source": [
    "# Este es el número de repeticiones de bootstrap\n",
    "n_iter = int(1e5)\n",
    "n_size = int(len(X) * 0.50)\n",
    "# Se muestra el número de muestra que se tomará por cada iteración de bootstrap\n",
    "n_size"
   ]
  },
  {
   "cell_type": "code",
   "execution_count": 29,
   "metadata": {},
   "outputs": [],
   "source": [
    "# Crear arreglos para guardar los valores importantes\n",
    "res_err = np.array([]) # Errores\n",
    "bts_slope = np.array([]) # Pendiente\n",
    "b_inter = np.array([]) # Ordenada\n",
    "for __ in range(n_iter):\n",
    "    # Preparar los datos de prueba y entrenamiento\n",
    "    # empleando la técnica de bootstrap, remuestreo con reemplazo\n",
    "    x_train, y_train = resample(X, y, n_samples=n_size)\n",
    "    x_test = np.array([x for x in X if x.tolist() not in x_train.tolist()])\n",
    "    y_test = np.array([x for x in y if x.tolist() not in y_train.tolist()])\n",
    "    \n",
    "    # Ajustar el modelo con el conjunto de entrenamiento de cada muestra\n",
    "    # de bootstrap\n",
    "    grv.fit(x_train, y_train)\n",
    "    # Calcular los errores y guardarlos\n",
    "    err = mean_squared_error(y_test, grv.predict(x_test))\n",
    "    res_err = np.append(res_err, err)\n",
    "    bts_slope = np.append(bts_slope, grv.coef_)\n",
    "    b_inter = np.append(b_inter, grv.intercept_)"
   ]
  },
  {
   "cell_type": "markdown",
   "metadata": {},
   "source": [
    " Ahora se genera un **intervalo de confianza** para el parámetro de la _pendiente de la recta_ habiendo realizado\n",
    " 10 millones de muestras de _bootstrap_. Este intervalo de confianza se crea utilizando percentiles, para un intervalo\n",
    " de confianza del 95%."
   ]
  },
  {
   "cell_type": "code",
   "execution_count": 30,
   "metadata": {},
   "outputs": [
    {
     "name": "stdout",
     "output_type": "stream",
     "text": [
      "Pendiente promedio: -4.2946\n",
      "Desviación estándar: 0.3702\n",
      "\n",
      "Ordenada: 0.1825\n",
      "Desviación estándar: 0.2401\n",
      "Intervalo de confianza del 95%\n",
      "-4.675002495149036 -3.5079405110309727\n"
     ]
    }
   ],
   "source": [
    "# Se muestran los resultados obtenidos del bootstrap\n",
    "print('Pendiente promedio: {0:.4f}\\nDesviación estándar: {1:.4f}'.format(bts_slope.mean(), bts_slope.std()))\n",
    "print()\n",
    "print('Ordenada: {0:.4f}\\nDesviación estándar: {1:.4f}'.format(b_inter.mean(), b_inter.std()))\n",
    "# Aquí se calcula el intervalo de confianza\n",
    "left = np.percentile(bts_slope, 2.5)\n",
    "right = np.percentile(bts_slope, 97.5)\n",
    "# Mostrar los resultados obtenidos\n",
    "print('Intervalo de confianza del 95%')\n",
    "print(left, right)"
   ]
  },
  {
   "cell_type": "markdown",
   "metadata": {},
   "source": [
    " Como se había mencionado en la teoría, se busca que los errores sigan una distribución normal. Esto es de mucha ayuda dado que\n",
    " da una certeza mayor de que la regresión _es_ lineal, i.e. la relación entre los datos es verdaderamente lineal y los\n",
    " parámetros encontrados tienen significancia estadística.\n"
   ]
  },
  {
   "cell_type": "code",
   "execution_count": 31,
   "metadata": {},
   "outputs": [
    {
     "data": {
      "image/png": "[encoded data removed]",
      "text/plain": [
       "<Figure size 720x432 with 1 Axes>"
      ]
     },
     "metadata": {
      "needs_background": "light"
     },
     "output_type": "display_data"
    }
   ],
   "source": [
    "# Usando una función especial de seaborn que muestra también la densidad de probabilidad\n",
    "# de la distribución, mostrar la figura de los errores\n",
    "plt.figure(figsize=(10,6))\n",
    "sns.distplot(res_err, kde_kws={'bw': 0.5})\n",
    "plt.ylim((0, 1))\n",
    "plt.show()"
   ]
  },
  {
   "cell_type": "code",
   "execution_count": 32,
   "metadata": {},
   "outputs": [
    {
     "data": {
      "image/png": "[encoded data removed]",
      "text/plain": [
       "<Figure size 720x432 with 1 Axes>"
      ]
     },
     "metadata": {
      "needs_background": "light"
     },
     "output_type": "display_data"
    }
   ],
   "source": [
    "# Graficar los resultados obtenidos, se debería encontrar una gráfica ajustada\n",
    "plt.figure(figsize=(10,6))\n",
    "plt.scatter(X, y)\n",
    "plt.plot(X, grv.fit(X, y).predict(X), c='r')\n",
    "plt.xlabel(r'$t$')\n",
    "plt.ylabel(r'$v_{y}$')\n",
    "plt.show()"
   ]
  },
  {
   "cell_type": "markdown",
   "metadata": {},
   "source": [
    " Mostrar el error RMSE y el valor de $R^2.$"
   ]
  },
  {
   "cell_type": "code",
   "execution_count": 33,
   "metadata": {},
   "outputs": [
    {
     "name": "stdout",
     "output_type": "stream",
     "text": [
      "0.11195303985260414\n",
      "0.9925835884405901\n"
     ]
    }
   ],
   "source": [
    "y_pred = grv.predict(X)\n",
    "print(np.sqrt(np.abs(mean_squared_error(y, y_pred))))\n",
    "print(grv.fit(X, y).score(X, y))"
   ]
  },
  {
   "cell_type": "markdown",
   "metadata": {},
   "source": [
    " Mostrar los parámetros encontrados."
   ]
  },
  {
   "cell_type": "code",
   "execution_count": 34,
   "metadata": {},
   "outputs": [],
   "source": [
    "slope = bts_slope.mean() / max(data['t'].values)\n",
    "slope_std = bts_slope.std() / max(data['t'].values)\n",
    "inter = b_inter.mean() / max(data['t'].values)\n",
    "inter_std = b_inter.std() / max(data['t'].values)"
   ]
  },
  {
   "cell_type": "code",
   "execution_count": 35,
   "metadata": {},
   "outputs": [
    {
     "name": "stdout",
     "output_type": "stream",
     "text": [
      "-9.356496373780113 0.8065873525536574\n",
      "0.39752503865431255 0.5230379725154056\n"
     ]
    }
   ],
   "source": [
    "print(slope, slope_std)\n",
    "print(inter, inter_std)"
   ]
  },
  {
   "cell_type": "markdown",
   "metadata": {},
   "source": [
    " Para la técnica de **bootstrap** se encontró el modelo siguiente:\n",
    " $$ $$\n",
    " y dado al intervalo de confianza realizado anteriormente, cada vez que se realice\n",
    " un ajuste lineal para este conjunto de datos, se podrá asegurar que el 95% de las veces\n",
    " se encontrará un par de coeficientes semejantes. Sin embargo, es importante mencionar el error encontrado\n",
    " para el promedio de la pendiente dentro del remuestreo por _bootstrap_, y es que este error es considerablemente\n",
    " grande. Esto puede implicar que este método posee un cierto _sesgo_ o _varianza_ repecto a los datos y es\n",
    " importante revisar una técnica adicional de muestreo para descartar este hecho.\n"
   ]
  },
  {
   "cell_type": "markdown",
   "metadata": {},
   "source": [
    " ### 2.3. Validación de $k$-pliegues cruzada como técnica de muestreo\n",
    " Según la referencia 9, la validación cruzada de $k$-pliegues, repetida un número $n$ de veces sirve como técnica de muestreo que\n",
    " tiene la ventaja de tener un **bajo sesgo** y es un método eficiente, rápido y provee de un bajo error en la estimación de las\n",
    " estadísticas buscadas.\n",
    "\n",
    " Por tanto, se pretende encontrar que los promedios encontrados para estos valores sean buenos y los errores sean bajos."
   ]
  },
  {
   "cell_type": "markdown",
   "metadata": {},
   "source": [
    " **ADVERTENCIA:** Es posible que este número de repeticiones tome mucho tiempo de cómputo, usar\n",
    " bajo discreción en el momento que se desee volver a ejecutar esta libreta."
   ]
  },
  {
   "cell_type": "code",
   "execution_count": 36,
   "metadata": {},
   "outputs": [],
   "source": [
    "# Implementar repeated k-fold\n",
    "res_err = np.array([])\n",
    "bts_slope = np.array([])\n",
    "b_inter = np.array([])\n",
    "rkf = RepeatedKFold(n_splits=5, n_repeats=100000)\n",
    "for tr, ts in rkf.split(X, y):\n",
    "    grv.fit(X[tr], y[tr])\n",
    "    err = mean_squared_error(y[ts], grv.predict(X[ts]))\n",
    "    res_err = np.append(res_err, err)\n",
    "    bts_slope = np.append(bts_slope, grv.coef_)\n",
    "    b_inter = np.append(b_inter, grv.intercept_)"
   ]
  },
  {
   "cell_type": "code",
   "execution_count": 37,
   "metadata": {},
   "outputs": [
    {
     "name": "stdout",
     "output_type": "stream",
     "text": [
      "Pendiente promedio: -4.4392\n",
      "Desviación estándar: 0.1001\n",
      "\n",
      "Ordenada: 0.2666\n",
      "Desviación estándar: 0.0565\n",
      "Intervalo de confianza del 95%\n",
      "-4.5967556914741525 -4.302384560750884\n"
     ]
    }
   ],
   "source": [
    "print('Pendiente promedio: {0:.4f}\\nDesviación estándar: {1:.4f}'.format(bts_slope.mean(), bts_slope.std()))\n",
    "print()\n",
    "print('Ordenada: {0:.4f}\\nDesviación estándar: {1:.4f}'.format(b_inter.mean(), b_inter.std()))\n",
    "left = np.percentile(bts_slope, 2.5)\n",
    "right = np.percentile(bts_slope, 97.5)\n",
    "# Mostrar el intervalo de confianza encontrado\n",
    "print('Intervalo de confianza del 95%')\n",
    "print(left, right)"
   ]
  },
  {
   "cell_type": "code",
   "execution_count": 38,
   "metadata": {},
   "outputs": [
    {
     "data": {
      "image/png": "[encoded data removed]",
      "text/plain": [
       "<Figure size 720x432 with 1 Axes>"
      ]
     },
     "metadata": {
      "needs_background": "light"
     },
     "output_type": "display_data"
    }
   ],
   "source": [
    "# Esta es la gráfica de errores encontrada\n",
    "plt.figure(figsize=(10,6))\n",
    "sns.distplot(res_err, kde_kws={'bw': 0.009})\n",
    "plt.show()"
   ]
  },
  {
   "cell_type": "code",
   "execution_count": 39,
   "metadata": {},
   "outputs": [
    {
     "name": "stdout",
     "output_type": "stream",
     "text": [
      "[0.28771543]\n",
      "[[-4.48737811]]\n"
     ]
    },
    {
     "data": {
      "image/png": "[encoded data removed]",
      "text/plain": [
       "<Figure size 720x432 with 1 Axes>"
      ]
     },
     "metadata": {
      "needs_background": "light"
     },
     "output_type": "display_data"
    }
   ],
   "source": [
    "# Graficar los resultados obtenidos\n",
    "print(grv.intercept_)\n",
    "print(grv.coef_)\n",
    "plt.figure(figsize=(10,6))\n",
    "plt.scatter(X, y)\n",
    "plt.plot(X, grv.fit(X, y).predict(X), c='r')\n",
    "plt.xlabel(r'$t$')\n",
    "plt.ylabel(r'$v_{y}$')\n",
    "plt.show()"
   ]
  },
  {
   "cell_type": "markdown",
   "metadata": {},
   "source": [
    " Mostrar el error RMSE y el valor de $R^2.$"
   ]
  },
  {
   "cell_type": "code",
   "execution_count": 40,
   "metadata": {},
   "outputs": [
    {
     "name": "stdout",
     "output_type": "stream",
     "text": [
      "0.11195303985260414\n",
      "0.9925835884405901\n"
     ]
    }
   ],
   "source": [
    "y_pred = grv.predict(X)\n",
    "print(np.sqrt(np.abs(mean_squared_error(y, y_pred))))\n",
    "print(grv.fit(X, y).score(X, y))"
   ]
  },
  {
   "cell_type": "markdown",
   "metadata": {},
   "source": [
    " Mostrar los parámetros encontrados."
   ]
  },
  {
   "cell_type": "code",
   "execution_count": 41,
   "metadata": {},
   "outputs": [],
   "source": [
    "slope = bts_slope.mean()/max(data['t'].values)\n",
    "slope_std = bts_slope.std()/max(data['t'].values)\n",
    "inter = b_inter.mean()/max(data['t'].values)\n",
    "inter_std = b_inter.std()/max(data['t'].values)"
   ]
  },
  {
   "cell_type": "code",
   "execution_count": 42,
   "metadata": {},
   "outputs": [
    {
     "name": "stdout",
     "output_type": "stream",
     "text": [
      "-9.671535694687622 0.21817781885959597\n",
      "0.5808792761892596 0.12305660954171077\n"
     ]
    }
   ],
   "source": [
    "print(slope, slope_std)\n",
    "print(inter, inter_std)"
   ]
  },
  {
   "cell_type": "markdown",
   "metadata": {},
   "source": [
    " Como se puede observar, el resultado es semejante, la distribución de los errores sigue una distribución\n",
    " normal como era esperado, pero algo más interesante es el error encontrado en los valore de remuestreo, pues\n",
    " este valor es considerablemente menor que mediante la técnica de _bootstrap._\n",
    " Esto confirma el hecho de que, para cierto tipo de conjunto de datos, la técnica de _bootstrap_ no es tan\n",
    " efectiva y que se debe preferir la validación cruzada de $k$-pliegues, repetida $n$ veces como alternativa.\n",
    " Para más información visitar la referencia 9.\n",
    "\n",
    " Para concluir esta sección, se encontró que para la técnica de validación cruzada reptida $n$ veces de\n",
    " $k$-pliegues el modelo es:\n",
    " $$ $$\n",
    " y dado al intervalo de confianza realizado anteriormente, cada vez que se realice\n",
    " un ajuste lineal para este conjunto de datos, se podrá asegurar que el 95% de las veces\n",
    " se encontrará un par de coeficientes semejantes."
   ]
  },
  {
   "cell_type": "markdown",
   "metadata": {},
   "source": [
    " ## 3. Métodos de _ensamble._\n",
    " Los **métodos de ensamble** representan un pilar fundamental en el área de la inteligencia computacional\n",
    " y el aprendizaje estadísticos. Este tipo de métodos permiten utilizar métodos o algoritmos más simple que\n",
    " tengan ciertas desventajas por sí solos, por ejemplo, estimador que tengan una _alta varianza_ o un\n",
    " _sesgo_ muy pronunciado.\n",
    " Al realizar un **ensamble** de todos estos estimadores, y mediante técnicas de muestreo, se puede construir\n",
    " un **súper estimador** que contenga _muy_ pocos de los errores que tenían los estimadores originales, y\n",
    " una alta tasa de predicción o clasificación según sea el caso.\n",
    "\n",
    " En particular, en esta librerta se emplearán las SVM sólo porque se pretende comparar el desempeño\n",
    " de este tipo de métodos y sus técnicas de muestreo. _No_ significa que la SVM requieran de este tipo de\n",
    " métodos para funcionar, dado que se ha comprobado anteriormente en esta libreta que ese _no_ es el caso.\n"
   ]
  },
  {
   "cell_type": "markdown",
   "metadata": {},
   "source": [
    " ### 3.1. _Bagging estimators_\n",
    " **NOTA:** Se pretende dar solamente un resumen ilustrativo del método, para mayor información visitar\n",
    " la referencia 10.\n",
    "\n",
    " El propósito de los _bagging predictors_ (Breiman, 1996) es utilizar métodos más simples que no tengan un buen\n",
    " desempeño de regresión realizar un promedio mediante técnicas de muestreo tal que el resultado es un mejor estimador\n",
    " siendo el promedio general de todos los estimadores anteriores.\n",
    "\n",
    " Dentro de las ventajas de realizar este tipo de métodos está el hecho de que es eficiente, rápido y que provee\n",
    " de un estimado de la regresión muy bueno.\n",
    " Sin embargo, este tipo de modelos prefieren datos _no lineales_ para ser muy efectivos en escenarios cuando son\n",
    " datos relacionados linealmente, el estimador puede sobreajustarse.\n",
    "\n",
    " En esta libreta se utiliza un _bagging predictor_ empleando SVM para comparar el resultado del remuestreo\n",
    " mediante _bootstrap_ con la técnica implementada a mano en la sección anterior."
   ]
  },
  {
   "cell_type": "code",
   "execution_count": 43,
   "metadata": {},
   "outputs": [
    {
     "name": "stdout",
     "output_type": "stream",
     "text": [
      "RMSE: \n",
      "0.19946655025946777\n"
     ]
    }
   ],
   "source": [
    "# Crear el regresor con la SVM anterior (el mejor modelo encontrado)\n",
    "n_svr = 100000\n",
    "bag_reg = BaggingRegressor(grv, n_estimators=n_svr, n_jobs=-1)\n",
    "bag_reg.fit(x_train, y_train)\n",
    "y_pred = bag_reg.predict(x_test)\n",
    "print('RMSE: ')\n",
    "print(np.sqrt(np.abs(mean_squared_error(y_test, y_pred))))"
   ]
  },
  {
   "cell_type": "code",
   "execution_count": 44,
   "metadata": {},
   "outputs": [],
   "source": [
    "slope = np.array([i.coef_ for i in bag_reg.estimators_])/max(data['t'].values)\n",
    "inter = np.array([i.intercept_ for i in bag_reg.estimators_])/max(data['t'].values)"
   ]
  },
  {
   "cell_type": "code",
   "execution_count": 45,
   "metadata": {},
   "outputs": [
    {
     "name": "stdout",
     "output_type": "stream",
     "text": [
      "-9.21650083082501 1.896497767482593\n",
      "0.6026284544910958 0.5052705754617612\n"
     ]
    }
   ],
   "source": [
    "print(slope.mean(), slope.std())\n",
    "print(inter.mean(), inter.std())"
   ]
  },
  {
   "cell_type": "markdown",
   "metadata": {},
   "source": [
    " El modelo final es el siguiente:\n",
    " $$  $$\n",
    " y dado al intervalo de confianza realizado anteriormente, cada vez que se realice\n",
    " un ajuste lineal para este conjunto de datos, se podrá asegurar que el 95% de las veces\n",
    " se encontrará un para de coeficientes semejantes."
   ]
  },
  {
   "cell_type": "code",
   "execution_count": 46,
   "metadata": {},
   "outputs": [
    {
     "data": {
      "image/png": "[encoded data removed]",
      "text/plain": [
       "<Figure size 720x432 with 1 Axes>"
      ]
     },
     "metadata": {
      "needs_background": "light"
     },
     "output_type": "display_data"
    }
   ],
   "source": [
    "# Mostrar la regresión obtenida\n",
    "plt.figure(figsize=(10, 6))\n",
    "plt.scatter(X, y)\n",
    "plt.plot(X, bag_reg.fit(X,y).predict(X))\n",
    "plt.show()"
   ]
  },
  {
   "cell_type": "markdown",
   "metadata": {},
   "source": [
    " ## Conclusiones\n",
    "\n",
    " 1. El número de datos en este ejercicio fue la mayor limitante, en cierta forma. Aunque las SVM tienen un excelente desempeño,\n",
    " trabajar con pocos datos presenta un problema técnico más elaborado que solamente cuando\n",
    " se maneja la estadística de forma precisa es útil manejar este tipo de conjunto de datos; sin embargo\n",
    " este tipo de situaciones se pueden presentar en muchos escenarios donde los _experimentos son diseñados_ desde antes.\n",
    "\n",
    " 2. Se observó que la técnica de muestreo _bootstrap_ es buena, pero no es la mejor para este conjunto de datos. Cuando se pretenda\n",
    " emplear esta técnica, es mejor utilizar un método más robusto como los _bagging estimators._\n",
    "\n",
    " 3. La validación cruzada de $k$-pliegues puede ser de mucha ayuda cuando se pretende crear intervalos de confianza que\n",
    " tengan por objetivo ser intervalos robustos para parámetros particulares. En conjunto con las SVM tienen un excelente desempeño\n",
    " en conjuntos de datos pequeños."
   ]
  },
  {
   "cell_type": "markdown",
   "metadata": {},
   "source": [
    " ## Referencias\n",
    "\n",
    " 1. [_Linear Regression in Machine Learning_](https://www.ismll.uni-hildesheim.de/lehre/ml-07w/skript/ml-2up-01-linearregression.pdf)\n",
    " 2. [_Regression and Stats Primer_](http://polisci2.ucsd.edu/dhughes/teaching/OLS_Slides_Handout.pdf)\n",
    " 3. [_Support Vector Machines. Optimization Based Theory, Algorithms, and Extensions_](https://doc.lagout.org/science/0_Computer%20Science/2_Algorithms/Support%20Vector%20Machines_%20Optimization%20Based%20Theory%2c%20Algorithms%2c%20and%20Extensions%20%5bDeng%2c%20Tian%20%26%20Zhang%202012-12-17%5d.pdf)\n",
    " Deng, N. _et al._\n",
    " 4. [_A Tutorial on Support Vector Regression._](https://alex.smola.org/papers/2003/SmoSch03b.pdf)\n",
    " Smola, A., & Schölkopf, B.\n",
    " 5. [_A Tutorial on Support Vector Machines for Pattern Recognition._](http://people.csail.mit.edu/dsontag/courses/ml12/notes/burges_SVM_tutorial.pdf)\n",
    " Burges, C.\n",
    " 6. [_Support Vector Regression_](https://static.aminer.org/pdf/PDF/000/337/560/uncertainty_support_vector_method_for_ordinal_regression.pdf)\n",
    " Basak, D. _et al._\n",
    " 7. [Asymptotic Behaviors of Support Vector Machines with Gaussian Kernel](http://citeseerx.ist.psu.edu/viewdoc/download?doi=10.1.1.141.880&rep=rep1&type=pdf)\n",
    " 8. [Bootstrap confidence intervals](https://ocw.mit.edu/courses/mathematics/18-05-introduction-to-probability-and-statistics-spring-2014/readings/MIT18_05S14_Reading24.pdf)\n",
    " 9. _Applied Predictive Modeling_. Kuhn, M., & Johnson, K. _Springer,_ 2013.\n",
    " 10. [_Bagging Estimators_.](https://www.stat.berkeley.edu/~breiman/bagging.pdf) Breiman, Leo."
   ]
  }
 ],
 "metadata": {
  "file_extension": ".py",
  "kernelspec": {
   "display_name": "Python 3",
   "language": "python",
   "name": "python3"
  },
  "language_info": {
   "codemirror_mode": {
    "name": "ipython",
    "version": 3
   },
   "file_extension": ".py",
   "mimetype": "text/x-python",
   "name": "python",
   "nbconvert_exporter": "python",
   "pygments_lexer": "ipython3",
   "version": "3.7.2"
  },
  "mimetype": "text/x-python",
  "name": "python",
  "npconvert_exporter": "python",
  "pygments_lexer": "ipython3",
  "version": 3
 },
 "nbformat": 4,
 "nbformat_minor": 2
}
