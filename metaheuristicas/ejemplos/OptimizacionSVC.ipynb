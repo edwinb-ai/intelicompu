{
 "cells": [
  {
   "cell_type": "markdown",
   "metadata": {},
   "source": [
    "# Caso de estudio: Clasificación con ajuste de hiperparámetros automatizado\n",
    "\n",
    "En este ejemplo se muestra la clasificación de un conjunto de datos empleando Máquinas de Soporte Vectorial y una metaheurística para seleccionar automáticamente los hiperparámetros según sea el caso.\n",
    "\n",
    "## Descripción del conjunto de datos\n",
    "\n",
    "El conjunto de datos se conoce como [Breast cancer wisconsin (diagnostic)](https://archive.ics.uci.edu/ml/datasets/Breast+Cancer+Wisconsin+(Diagnostic))\n",
    "y es un conjunto de datos que contiene información de todo tipo sobre muestras de tumores provenientes de pacientes con y sin cáncer de mama.\n",
    "Este conjunto de datos es pequeño, con aproximadamente 600 datos, y es un problema de _clasificación binaria_, donde solamente se va a distinguir entre dos\n",
    "posibles tipos de tumores: **benigno** o **maligno**.\n",
    "\n",
    "La información del conjunto de datos se puede ver en el sitio oficial (usando el hipervínculo anterior), pero se da una descripción muy breve en este documento.\n",
    "Se tienen 30 datos, entre los cuales son perímetro, área, concavidad, suavidad, entre otras cosas. En total son 10 características, pero se repiten por 3 variaciones\n",
    "de células dentro del tumor, haciendo que el número total de características sea 30.\n",
    "\n",
    "## Metodología y procedimiento\n",
    "\n",
    "Para resolver este problema de clasificación se emplearán Máquinas de Soporte Vectorial empleando un kernel de tipo RBF. Con esto se tienen dos hiperparámetros a ajustar, $C$ y $\\gamma$,\n",
    "sin embargo, en este caso no se sabe nada acerca del conjunto de datos, por lo que no se puede emplear una técnica de búsqueda exhaustiva para encontrar los mejores valores.\n",
    "Es por esto que se propone emplear una metaheurística que permita buscar rápidamente en el espacio de soluciones. Para esto se escogió el _Firefly algorithm_ como metaheurística.\n",
    "\n",
    "El procedimiento general es el siguiente:\n",
    "\n",
    "1. Procesar el conjunto de datos y estandarizarlo.\n",
    "2. Separar el conjunto de datos en 85% entrenamiento y 15% prueba.\n",
    "3. Iterar sobre el conjunto de entrenamiento utilizando validación cruzada estratificada de 10 pliegues para maximizar la precisión de clasificación, empleando Firefly algorithm para encontrar los mejores\n",
    "    hiperparámetros.\n",
    "4. Probar el resultado del clasificador con los datos de prueba y mostrar un reporte de clasificación."
   ]
  },
  {
   "cell_type": "code",
   "execution_count": 1,
   "metadata": {},
   "outputs": [],
   "source": [
    "import numpy as np\n",
    "from sklearn.datasets import load_breast_cancer\n",
    "from sklearn.svm import SVC\n",
    "from sklearn.model_selection import cross_val_score, StratifiedKFold, train_test_split\n",
    "from sklearn.metrics import accuracy_score, classification_report\n",
    "from sklearn.preprocessing import MinMaxScaler"
   ]
  },
  {
   "cell_type": "code",
   "execution_count": 2,
   "metadata": {},
   "outputs": [],
   "source": [
    "# Cargar el algoritmo completo\n",
    "%run \"../firefly.py\""
   ]
  },
  {
   "cell_type": "markdown",
   "metadata": {},
   "source": [
    "En este paso se debe crear una función de tipo **caja negra** donde la función a optimizar solamente reciba un conjunto de valores (en este caso los hiperparámetros) y devuelva un valor (en este caso, la precisión de clasificación). La función de tipo **caja negra** lo que tiene dentro es una instancia de una Máquina de Soporte Vectorial que se ajusta con los datos que se le pasan a la función y devuelve el negativo (para minimizar) de la precisión encontrada."
   ]
  },
  {
   "cell_type": "code",
   "execution_count": 3,
   "metadata": {},
   "outputs": [],
   "source": [
    "def svc_fnc(x, x_tr=None, x_ts=None, y_tr=None, y_ts=None):\n",
    "    # Crear una instancia del clasificador\n",
    "    clf = SVC(C=x[0], gamma=x[1])\n",
    "    # Ajustarlo con los datos de entrenamiento\n",
    "    clf.fit(x_tr, y_tr)\n",
    "    # Siempre se buscan valores positivos del accuracy\n",
    "    score = -clf.score(x_ts, y_ts)\n",
    "\n",
    "    return score"
   ]
  },
  {
   "cell_type": "markdown",
   "metadata": {},
   "source": [
    "Algo importante que se debe realizar es _estandarizar_ los datos por dos razones fundamentales:\n",
    "\n",
    "1. Las Máquinas de Soporte Vectorial solamente funcionan con datos estandarizados.\n",
    "\n",
    "2. El conjunto de datos contiene diferentes escalas de longitud que van a afectar mucho al resultado final.\n",
    "\n",
    "Es por esto que se decidió estandarizar los datos entre -1 y 1, de tal forma que las escalas de medición empleadas se ignoran, y la Máquina de Soporte Vectorial puede ser entrenada correctamente."
   ]
  },
  {
   "cell_type": "code",
   "execution_count": 4,
   "metadata": {},
   "outputs": [],
   "source": [
    "# Extraer el conjunto de datos, y separarlo en dos\n",
    "X, y = load_breast_cancer(return_X_y=True)\n",
    "\n",
    "# Estandarizar los datos entre -1 y 1\n",
    "scaler = MinMaxScaler(feature_range=(-1, 1))\n",
    "X = scaler.fit_transform(X)"
   ]
  },
  {
   "cell_type": "code",
   "execution_count": 5,
   "metadata": {},
   "outputs": [],
   "source": [
    "# Es importante separar el conjunto de datos en prueba y entrenamiento\n",
    "x_train, x_test, y_train, y_test = train_test_split(X, y, test_size=0.15)\n",
    "\n",
    "# Separar el conjunto de datos para validación cruzada usando\n",
    "# separación estratificada de 10 pliegues\n",
    "n_pliegues = 10\n",
    "skf = StratifiedKFold(n_splits=n_pliegues)"
   ]
  },
  {
   "cell_type": "markdown",
   "metadata": {},
   "source": [
    "Este es el ciclo principal del procedimiento, donde se separa el conjunto de entrenamiento en 10 partes, manteniendo un equilibrio entre ambas clases (la estratificación) y en cada paso iterativo se emplea el algortimo de optimización _Firefly_. Este algoritmo devuelve un conjunto de valores que serán los hiperparámetros que mejor minimizan la función de tipo **caja negra**, y al final se hará un promedio de los 10 pasos que se realizaron para tomar esta media como el resultado final."
   ]
  },
  {
   "cell_type": "code",
   "execution_count": 15,
   "metadata": {},
   "outputs": [
    {
     "name": "stdout",
     "output_type": "stream",
     "text": [
      "CPU times: user 29.9 s, sys: 42.9 ms, total: 29.9 s\n",
      "Wall time: 29.9 s\n"
     ]
    }
   ],
   "source": [
    "%%time\n",
    "# Estos arreglos guardarán los resultados finales\n",
    "# Este arreglo guarda los parámetros óptimos, C y gamma\n",
    "res_vals = np.zeros(2)\n",
    "# Este arreglo guarda el valor de precisión total\n",
    "fnc_total = np.array([])\n",
    "\n",
    "# Se comienza a iterar sobre los 10 pliegues de la validación cruzada\n",
    "for tr, ts in skf.split(x_train, y_train):\n",
    "    # Estos son los parámetros de entrada del Firefly Algorithm\n",
    "    kwargs = {'func': svc_fnc, 'dim': 2, 'tam_pob': 50, 'alpha': 0.9, 'beta': 0.2, 'gamma': 1.0, \n",
    "    'inf': 2**(-5), 'sup': 2**5}\n",
    "    # Se crea una instancia del Firefly Algorithm\n",
    "    fa_solve = FAOpt(**kwargs, args=(X[tr], X[ts], y[tr], y[ts]))\n",
    "    # Se llama al método que resuelve la optimización (FA)\n",
    "    fa_res, fa_fnc = fa_solve.optimizar(20, optim=True)\n",
    "\n",
    "    # Se guardan los resultados de cada iteración\n",
    "    res_vals += fa_res\n",
    "    fnc_total = np.append(fnc_total, fa_fnc)"
   ]
  },
  {
   "cell_type": "markdown",
   "metadata": {},
   "source": [
    "Algo importante a notar es que en esta implementación del _Firefly algorithm_ se especifica un solo rango de búsqueda para todos los parámetros, y esto no siempre es deseable dado que diferentes parámetros tienen diferentes espacios de búsqueda. Adicionalmente, entre más grande el espacio de búsqueda parece ser que el _Firefly algorithm_ converge a valores muy grandes que reducen mucho la precisión. Si el lector lo desea, se puede tomar esta libreta y ejecutar, cambiando estos resultados."
   ]
  },
  {
   "cell_type": "code",
   "execution_count": 13,
   "metadata": {},
   "outputs": [
    {
     "name": "stdout",
     "output_type": "stream",
     "text": [
      "[15.9253274   0.44476323]\n",
      "0.9876700680272108\n",
      "0.9651162790697675\n",
      "              precision    recall  f1-score   support\n",
      "\n",
      "           0       0.97      0.95      0.96        37\n",
      "           1       0.96      0.98      0.97        49\n",
      "\n",
      "   micro avg       0.97      0.97      0.97        86\n",
      "   macro avg       0.97      0.96      0.96        86\n",
      "weighted avg       0.97      0.97      0.97        86\n",
      "\n"
     ]
    }
   ],
   "source": [
    "# Los valores de los parámetros C y gamma deben estar normalizados, se divide por\n",
    "# el número de pliegues\n",
    "res_vals /= n_pliegues\n",
    "# Por visualización, se muestran los resultados óptimos (opcional)\n",
    "print(res_vals)\n",
    "# Y el promedio de accuracy durante la validación cruzada (opcional)\n",
    "print(fnc_total.mean())\n",
    "\n",
    "# Por último, usando los valores óptimos encontrados se realiza la clasificación final\n",
    "clf = SVC(C=res_vals[0], gamma=res_vals[1])\n",
    "clf.fit(x_train, y_train)\n",
    "print(clf.score(x_test, y_test))\n",
    "# Y mostrar un reporte de clasificación\n",
    "print(classification_report(y_test, clf.predict(x_test)))"
   ]
  },
  {
   "cell_type": "markdown",
   "metadata": {},
   "source": [
    "Este resultado de clasificación es el esperado, aproximadamente se debe obtener un 98% de precisión con Máquinas de Soporte Vectorial; es posible que otros modelos/algoritmos tengan mejores resultados. En particular es interesante emplear las metaheurísticas para facilitar la búsqueda del espacio de soluciones y entrenar los modelos con este tipo de técnicas."
   ]
  }
 ],
 "metadata": {
  "kernelspec": {
   "display_name": "Python 3",
   "language": "python",
   "name": "python3"
  },
  "language_info": {
   "codemirror_mode": {
    "name": "ipython",
    "version": 3
   },
   "file_extension": ".py",
   "mimetype": "text/x-python",
   "name": "python",
   "nbconvert_exporter": "python",
   "pygments_lexer": "ipython3",
   "version": "3.7.3"
  }
 },
 "nbformat": 4,
 "nbformat_minor": 2
}
